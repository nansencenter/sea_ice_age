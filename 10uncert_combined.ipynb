{
 "cells": [
  {
   "cell_type": "code",
   "execution_count": null,
   "id": "a77c58bd",
   "metadata": {},
   "outputs": [],
   "source": [
    "import glob\n",
    "from datetime import datetime\n",
    "import os\n",
    "from multiprocessing import Pool\n",
    "\n",
    "import numpy as np\n",
    "from tqdm.notebook import tqdm\n",
    "import matplotlib.pyplot as plt\n",
    "\n",
    "from uncertainty import ComputeSidSicUncertainty\n",
    "%matplotlib inline"
   ]
  },
  {
   "cell_type": "code",
   "execution_count": null,
   "id": "d2b1fd7f",
   "metadata": {},
   "outputs": [],
   "source": [
    "n_steps = 2210 # should be 2210 to cover 6 years\n",
    "\n",
    "sia_dir = 'data2/Anton/sia/cdr_1991_2023'\n",
    "mesh_dir = f'{sia_dir}/mesh'\n",
    "unc_dir = f'{sia_dir}/unc'\n",
    "sid_dir = 'data2/Anton/sia_sid_cdr_postproc'\n",
    "ifiles = sorted(glob.glob(f'{sid_dir}/*/ice_drift_nh_ease2*.nc.npz'))\n",
    "idates = [datetime.strptime(os.path.basename(ifile).split('-')[-1].split('.')[0], '%Y%m%d%H%M%S')\n",
    "          for ifile in ifiles]\n"
   ]
  },
  {
   "cell_type": "code",
   "execution_count": null,
   "id": "e62cac4a",
   "metadata": {},
   "outputs": [],
   "source": [
    "start_index = idates.index(datetime(1991, 9, 15, 12))\n",
    "start_index = idates.index(datetime(2020, 9, 15, 12))\n",
    "\n",
    "comp = ComputeSidSicUncertainty(sia_dir)\n",
    "comp.save_sid_sic_uncertainty(idates[start_index])"
   ]
  },
  {
   "cell_type": "code",
   "execution_count": null,
   "id": "9f34c796",
   "metadata": {},
   "outputs": [],
   "source": [
    "with Pool(6) as p:\n",
    "    results = list(tqdm(\n",
    "        p.imap(comp.save_sid_sic_uncertainty, idates[start_index:]),\n",
    "        total=len(idates)\n",
    "        ))\n"
   ]
  }
 ],
 "metadata": {
  "kernelspec": {
   "display_name": "ice",
   "language": "python",
   "name": "python3"
  },
  "language_info": {
   "codemirror_mode": {
    "name": "ipython",
    "version": 3
   },
   "file_extension": ".py",
   "mimetype": "text/x-python",
   "name": "python",
   "nbconvert_exporter": "python",
   "pygments_lexer": "ipython3",
   "version": "3.13.3"
  }
 },
 "nbformat": 4,
 "nbformat_minor": 5
}
