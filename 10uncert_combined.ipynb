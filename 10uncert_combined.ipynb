{
 "cells": [
  {
   "cell_type": "code",
   "execution_count": null,
   "id": "a77c58bd",
   "metadata": {},
   "outputs": [],
   "source": [
    "import glob\n",
    "from datetime import datetime\n",
    "import os\n",
    "from multiprocessing import Pool\n",
    "\n",
    "import numpy as np\n",
    "from scipy.ndimage import gaussian_filter\n",
    "from tqdm.notebook import tqdm\n",
    "\n",
    "from uncertainty import ComputeSidSicUncertainty\n",
    "%matplotlib inline"
   ]
  },
  {
   "cell_type": "code",
   "execution_count": null,
   "id": "d2b1fd7f",
   "metadata": {},
   "outputs": [],
   "source": [
    "n_steps = 2210 # should be 2210 to cover 6 years\n",
    "\n",
    "sia_dir = 'data2/Anton/sia/cdr_1991_2023'\n",
    "mesh_dir = f'{sia_dir}/mesh'\n",
    "unc_dir = f'{sia_dir}/unc'\n",
    "sid_dir = 'data2/Anton/sia_sid_cdr_postproc'\n",
    "ifiles = sorted(glob.glob(f'{sid_dir}/*/ice_drift_nh_ease2*.nc.npz'))\n",
    "idates = [datetime.strptime(os.path.basename(ifile).split('-')[-1].split('.')[0], '%Y%m%d%H%M%S')\n",
    "          for ifile in ifiles]\n",
    "\n",
    "mesh_init_file = 'mesh_arctic_ease_25km_max7.npz'\n",
    "xc = np.load(mesh_init_file)['xc']\n",
    "yc = np.load(mesh_init_file)['yc']\n",
    "mask = np.load(mesh_init_file)['mask']\n",
    "mask_f = gaussian_filter(mask.astype(float), 1, truncate=1)"
   ]
  },
  {
   "cell_type": "code",
   "execution_count": null,
   "id": "e62cac4a",
   "metadata": {},
   "outputs": [],
   "source": [
    "start_indices = [i for i,j in enumerate(idates) if j.year > 2011 and j.month == 9 and j.day == 5]"
   ]
  },
  {
   "cell_type": "code",
   "execution_count": null,
   "id": "75019507",
   "metadata": {},
   "outputs": [],
   "source": [
    "for start_idx in start_indices:\n",
    "    stop_idx = min(start_idx + n_steps, len(idates))\n",
    "    print(f'Processing {start_idx} to {stop_idx} for {idates[start_idx]} to {idates[stop_idx-1]}')\n",
    "    comp = ComputeSidSicUncertainty(ifiles, idates, idates[start_idx], sia_dir, mesh_dir, mesh_init_file, xc, yc)\n",
    "    with Pool(4) as p:\n",
    "        results = list(tqdm(\n",
    "            p.imap(comp.compute_sid_sic_uncertainty, range(start_idx, stop_idx)),\n",
    "            total=stop_idx - start_idx\n",
    "            ))\n"
   ]
  },
  {
   "cell_type": "code",
   "execution_count": null,
   "id": "22565d7c",
   "metadata": {},
   "outputs": [],
   "source": []
  }
 ],
 "metadata": {
  "kernelspec": {
   "display_name": "ice",
   "language": "python",
   "name": "python3"
  },
  "language_info": {
   "codemirror_mode": {
    "name": "ipython",
    "version": 3
   },
   "file_extension": ".py",
   "mimetype": "text/x-python",
   "name": "python",
   "nbconvert_exporter": "python",
   "pygments_lexer": "ipython3",
   "version": "3.13.3"
  }
 },
 "nbformat": 4,
 "nbformat_minor": 5
}
