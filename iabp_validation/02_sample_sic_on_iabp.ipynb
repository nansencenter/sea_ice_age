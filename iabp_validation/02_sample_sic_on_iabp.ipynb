{
 "cells": [
  {
   "cell_type": "code",
   "execution_count": null,
   "metadata": {},
   "outputs": [],
   "source": [
    "import os\n",
    "import glob\n",
    "import time\n",
    "\n",
    "from tqdm import tqdm\n",
    "import pandas as pd\n",
    "import numpy as np\n",
    "import matplotlib.pyplot as plt\n",
    "import xarray as xa\n",
    "from cartopy.crs import PlateCarree, LambertAzimuthalEqualArea"
   ]
  },
  {
   "cell_type": "code",
   "execution_count": null,
   "metadata": {},
   "outputs": [],
   "source": [
    "laea = LambertAzimuthalEqualArea(central_longitude=0, central_latitude=90)\n",
    "pc = PlateCarree()"
   ]
  },
  {
   "cell_type": "code",
   "execution_count": null,
   "metadata": {},
   "outputs": [],
   "source": [
    "buoys = pd.read_feather('data/buoys.feather').dropna()"
   ]
  },
  {
   "cell_type": "code",
   "execution_count": null,
   "metadata": {},
   "outputs": [],
   "source": [
    "sic_dir = '/Data/sim/data/OSISAF_ice_conc_CDR_v3p0/'\n",
    "years = range(2024, 2002, -1)\n",
    "min_size = 1\n",
    "\n",
    "buoys_subs = []\n",
    "for year in years:\n",
    "    ofile = f'data/buoys_sic_{year}.feather'\n",
    "    if os.path.exists(ofile):\n",
    "        print(f'{ofile} exists')\n",
    "        buoys_sub = pd.read_feather(ofile)\n",
    "        buoys_subs.append(buoys_sub)\n",
    "        continue\n",
    "\n",
    "    sic_files = sorted(glob.glob(f'{sic_dir}/{year}/*/*.nc'))\n",
    "    print(len(sic_files), os.path.basename(sic_files[0]), os.path.basename(sic_files[-1]))\n",
    "\n",
    "    with xa.open_dataset(sic_files[0]) as ds0:\n",
    "        ds0x = ds0.xc.values * 1000\n",
    "        ds0y = ds0.yc.values * 1000\n",
    "        ds0sic = ds0.ice_conc.values[0]\n",
    "\n",
    "    t0 = time.time()\n",
    "    with xa.open_mfdataset(sic_files, combine='by_coords') as ds:\n",
    "        ds_time = ds.time.values\n",
    "        ds_ice_conc = ds.ice_conc.values\n",
    "    print('Time:', time.time() - t0)\n",
    "\n",
    "    buoys_sub = buoys[(buoys.index >= ds_time[0]) & (buoys.index <= ds_time[-1])].copy()\n",
    "    if buoys_sub.shape[0] < min_size:\n",
    "        print('Too small:', buoys_sub.shape[0])\n",
    "        continue\n",
    "    x, y = laea.transform_points(pc, buoys_sub.Lon.values, buoys_sub.Lat.values).T[:2]\n",
    "    cols = np.round((x - ds0x[0]) / (ds0x[-1] - ds0x[0]) * ds0x.size).astype(int)\n",
    "    rows = np.round((y - ds0y[0]) / (ds0y[-1] - ds0y[0]) * ds0y.size).astype(int)\n",
    "    cols = np.clip(cols, 0, ds0x.size - 1)\n",
    "    rows = np.clip(rows, 0, ds0y.size - 1)\n",
    "    time_indices = np.array([np.argmin(np.abs(ds_time - np.datetime64(date))).item() for date in buoys_sub.index])\n",
    "    ice_conc_sub = ds_ice_conc[time_indices, rows, cols]\n",
    "    buoys_sub['sic'] = ice_conc_sub\n",
    "    buoys_subs.append(buoys_sub)\n",
    "\n",
    "    plt.imshow(ds0sic, cmap='jet')\n",
    "    plt.scatter(cols, rows, c=ice_conc_sub)\n",
    "    print('Size:', ice_conc_sub.size)\n",
    "    plt.show()\n",
    "    buoys_sub.to_feather(ofile)\n"
   ]
  },
  {
   "cell_type": "code",
   "execution_count": null,
   "metadata": {},
   "outputs": [],
   "source": [
    "buoys_subs = pd.concat(buoys_subs, axis=0)\n",
    "buoys_subs.to_feather('data/buoys_sic.feather')"
   ]
  },
  {
   "cell_type": "markdown",
   "metadata": {},
   "source": [
    "# Split buoy trajectories by low SIC"
   ]
  },
  {
   "cell_type": "code",
   "execution_count": null,
   "metadata": {},
   "outputs": [],
   "source": [
    "buoys = pd.read_feather('data/buoys_sic.feather').dropna()\n",
    "groups = buoys.groupby('BuoyId')\n",
    "\n",
    "min_sic = 15\n",
    "segments = []\n",
    "for bi, buoy in tqdm(groups):\n",
    "    buoy.sort_index(inplace=True)\n",
    "    if buoy.sic.max() > min_sic:\n",
    "        hi_sic_idx = np.where(buoy.sic > min_sic)[0]\n",
    "        starts = np.where(np.diff(hi_sic_idx) > 1)[0] + 1\n",
    "        starts = np.concatenate(([0], starts))\n",
    "        ends = np.concatenate((starts[1:], [len(hi_sic_idx)])) - 1\n",
    "        for segment_id, (start, end) in enumerate(zip(starts, ends)):\n",
    "            segment = buoy.iloc[hi_sic_idx[start]:hi_sic_idx[end]].copy()\n",
    "            segment['segment_id'] = segment_id\n",
    "            segment['Age'] -= segment['Age'].min()\n",
    "            segments.append(segment)\n",
    "segments = pd.concat(segments, axis=0)\n",
    "segments.to_feather('data/segments.feather')"
   ]
  }
 ],
 "metadata": {
  "kernelspec": {
   "display_name": "ice2",
   "language": "python",
   "name": "python3"
  },
  "language_info": {
   "codemirror_mode": {
    "name": "ipython",
    "version": 3
   },
   "file_extension": ".py",
   "mimetype": "text/x-python",
   "name": "python",
   "nbconvert_exporter": "python",
   "pygments_lexer": "ipython3",
   "version": "3.12.8"
  }
 },
 "nbformat": 4,
 "nbformat_minor": 2
}
