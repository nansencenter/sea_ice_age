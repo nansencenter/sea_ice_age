{
 "cells": [
  {
   "cell_type": "code",
   "execution_count": null,
   "metadata": {},
   "outputs": [],
   "source": [
    "import os\n",
    "import glob\n",
    "\n",
    "import pandas as pd\n",
    "import matplotlib.pyplot as plt\n",
    "from tqdm import tqdm\n",
    "import numpy as np\n",
    "\n",
    "%matplotlib inline"
   ]
  },
  {
   "cell_type": "code",
   "execution_count": null,
   "metadata": {},
   "outputs": [],
   "source": [
    "iabp_dir = '/Data/sim/data/IABP_live'\n",
    "iabp_files = sorted(glob.glob(f'{iabp_dir}/*[0-9].dat'))\n",
    "print(f'Found {len(iabp_files)} IABP files')"
   ]
  },
  {
   "cell_type": "code",
   "execution_count": null,
   "metadata": {},
   "outputs": [],
   "source": [
    "min_df_shape = 10\n",
    "\n",
    "buoys = []\n",
    "for i, ifile in tqdm(enumerate(iabp_files), total=len(iabp_files)):\n",
    "    if os.path.basename(ifile).startswith('FR_'):\n",
    "        df = pd.read_csv(ifile, sep=';', header=None,  usecols=[1, 4, 6, 7], names=['Year', 'DOY', 'Lat', 'Lon'])\n",
    "    else:\n",
    "        df = pd.read_csv(ifile, sep='\\\\s+', usecols=['Year', 'DOY', 'Lat', 'Lon']).dropna()\n",
    "    valid_lon_lat = (df.Lon >= -180) & (df.Lon <= 180) & (df.Lat > 50) & (df.Lat <= 90)\n",
    "    valid_year = (df.Year <= 2025) & (df.Year >= 1990)\n",
    "    df = df[valid_lon_lat & valid_year]\n",
    "    if df.shape[0] < min_df_shape:\n",
    "        continue\n",
    "    max_lon_dif = df.Lon.diff().abs().quantile(0.95)\n",
    "    max_lat_dif = df.Lat.diff().abs().quantile(0.95)\n",
    "    lon_lat_mask = (df.Lon.diff().abs() < max_lon_dif) & (df.Lat.diff().abs() < max_lat_dif)\n",
    "    df = df[lon_lat_mask]\n",
    "    if df.shape[0] < min_df_shape:\n",
    "        continue\n",
    "    df.index = pd.to_timedelta(df['DOY'], unit='D') + pd.to_datetime(df['Year'], format='%Y')\n",
    "    df_1d = df.resample('1D').mean().dropna()\n",
    "    if df_1d.shape[0] < min_df_shape:\n",
    "        continue\n",
    "    buoy = pd.DataFrame({\n",
    "            'BuoyId': i,\n",
    "            'Lat': df_1d['Lat'],\n",
    "            'Lon': df_1d['Lon'],\n",
    "            'Age': (df_1d.index - df_1d.index.min()).days,\n",
    "        },\n",
    "        index=df_1d.index)\n",
    "    if np.isnan(buoy.Lat.values.min()):\n",
    "        raise\n",
    "    buoys.append(buoy)\n",
    "buoys = pd.concat(buoys, axis=0)\n"
   ]
  },
  {
   "cell_type": "code",
   "execution_count": null,
   "metadata": {},
   "outputs": [],
   "source": [
    "buoys.to_feather('data/buoys.feather')"
   ]
  },
  {
   "cell_type": "code",
   "execution_count": null,
   "metadata": {},
   "outputs": [],
   "source": [
    "# Resample IABP trajectories to 1 day\n",
    "buoys_resampled = buoys.resample('1D').mean().dropna()\n",
    "\n",
    "# Save the resampled data to a new feather file\n",
    "buoys_resampled.to_feather('data/buoys_resampled.feather')\n",
    "\n",
    "# Print the first few rows of the resampled data\n",
    "print(buoys_resampled.head())"
   ]
  },
  {
   "cell_type": "code",
   "execution_count": null,
   "metadata": {},
   "outputs": [],
   "source": []
  }
 ],
 "metadata": {
  "kernelspec": {
   "display_name": "ice2",
   "language": "python",
   "name": "python3"
  },
  "language_info": {
   "codemirror_mode": {
    "name": "ipython",
    "version": 3
   },
   "file_extension": ".py",
   "mimetype": "text/x-python",
   "name": "python",
   "nbconvert_exporter": "python",
   "pygments_lexer": "ipython3",
   "version": "3.12.8"
  }
 },
 "nbformat": 4,
 "nbformat_minor": 2
}
