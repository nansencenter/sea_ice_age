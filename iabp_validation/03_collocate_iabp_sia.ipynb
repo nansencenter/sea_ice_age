{
 "cells": [
  {
   "cell_type": "code",
   "execution_count": null,
   "metadata": {},
   "outputs": [],
   "source": [
    "import os\n",
    "import glob\n",
    "\n",
    "import pandas as pd\n",
    "import numpy as np\n",
    "import matplotlib.pyplot as plt\n",
    "import xarray as xa\n",
    "from cartopy.crs import PlateCarree, LambertAzimuthalEqualArea"
   ]
  },
  {
   "cell_type": "code",
   "execution_count": null,
   "metadata": {},
   "outputs": [],
   "source": [
    "laea = LambertAzimuthalEqualArea(central_latitude=90, central_longitude=0)\n",
    "pc = PlateCarree()\n",
    "buoys = pd.read_feather('data/segments.feather').dropna()\n",
    "idir = '../NERSC_arctic25km_sea_ice_age_v2p1/nc'"
   ]
  },
  {
   "cell_type": "code",
   "execution_count": null,
   "metadata": {},
   "outputs": [],
   "source": [
    "for year in range(2024, 2002, -1):\n",
    "    ofile = f'data/buoys_sia_{year}.feather'\n",
    "    if os.path.exists(ofile):\n",
    "        print(f'{ofile} exists, skipping')\n",
    "        continue\n",
    "\n",
    "    print(f'Processing {year}')\n",
    "    sia_files = sorted(glob.glob(f'{idir}/{year}/arctic25km_sea_ice_age_v2p0*.nc'))\n",
    "    print(len(sia_files))\n",
    "\n",
    "    with xa.open_dataset(sia_files[0]) as ds:\n",
    "        ds_x = ds.x.values\n",
    "        ds_y = ds.y.values\n",
    "\n",
    "    concs = []\n",
    "    with xa.open_mfdataset(sia_files, combine='by_coords') as ds:\n",
    "        ds_time = ds.time.values\n",
    "        for var_name in sorted(ds.variables, reverse=True):\n",
    "            if 'conc_' in var_name:\n",
    "                concs.append(ds.variables[var_name].values)\n",
    "        ds_sia = ds.sia.values\n",
    "    concs = np.array(concs)\n",
    "    conc_cumsum = concs.cumsum(axis=0)[::-1]\n",
    "\n",
    "    buoys_sub = buoys[(buoys.index >= ds_time[0]) & (buoys.index <= ds_time[-1])].copy()\n",
    "    print(buoys_sub.shape)\n",
    "\n",
    "    time_indices = np.array([np.argmin(np.abs(ds_time - np.datetime64(date))).item() for date in buoys_sub.index])\n",
    "    x, y = laea.transform_points(pc, buoys_sub.Lon.values, buoys_sub.Lat.values).T[:2]\n",
    "    cols = np.round((x - ds_x[0]) / (ds_x[-1] - ds_x[0]) * ds_x.size).astype(int)\n",
    "    rows = np.round((y - ds_y[0]) / (ds_y[-1] - ds_y[0]) * ds_y.size).astype(int)\n",
    "    rows = np.clip(rows, 0, ds_y.size - 1)\n",
    "    cols = np.clip(cols, 0, ds_x.size - 1)\n",
    "    buoy_sia = ds_sia[time_indices, rows, cols]\n",
    "    buoy_conc_cumsum = conc_cumsum[:, time_indices, rows, cols]\n",
    "\n",
    "    buoys_sub['sia'] = buoy_sia\n",
    "    for i in range(buoy_conc_cumsum.shape[0]):\n",
    "        buoys_sub[f'conc{i}'] = buoy_conc_cumsum[i]\n",
    "    buoys_sub.dropna().to_feather(ofile)"
   ]
  },
  {
   "cell_type": "code",
   "execution_count": null,
   "metadata": {},
   "outputs": [],
   "source": [
    "buoys_sia_files = sorted(glob.glob('data/buoys_sia_*.feather'))\n",
    "buoys_sia = pd.concat([pd.read_feather(f) for f in buoys_sia_files])\n",
    "conc_columns = [f'conc{i}' for i in range(7)]\n",
    "conc_array = buoys_sia[conc_columns].values\n"
   ]
  },
  {
   "cell_type": "code",
   "execution_count": null,
   "metadata": {},
   "outputs": [],
   "source": [
    "buoys_max_age = np.argmin(conc_array > 0.15, axis=1) - 1\n",
    "correct_ratio_weighted_sia = (buoys_sia.sia >= buoys_sia.Age/365).sum() / buoys_sia.shape[0]\n",
    "correct_ratio_max_sia = ((1 + buoys_max_age) >= buoys_sia.Age/365).sum() / buoys_sia.shape[0]\n",
    "\n",
    "max_age = 5\n",
    "n_bins = 30\n",
    "bins = np.linspace(0, max_age, n_bins)\n",
    "bins_i = np.zeros(bins.size*2)\n",
    "bins_i[0::2] = bins\n",
    "bins_i[1::2] = bins\n",
    "bins_y = bins_i[2:]\n",
    "bins_x = bins_i[1:-1]\n"
   ]
  },
  {
   "cell_type": "code",
   "execution_count": null,
   "metadata": {},
   "outputs": [],
   "source": [
    "age_underestimation = np.where(buoys_sia.sia < buoys_sia.Age/365, buoys_sia.Age/365 - buoys_sia.sia, 0)"
   ]
  },
  {
   "cell_type": "code",
   "execution_count": null,
   "metadata": {},
   "outputs": [],
   "source": [
    "year = 2020\n",
    "sia_files = sorted(glob.glob(f'{idir}/{year}/arctic25km_sea_ice_age_v2p1_*.nc'))\n",
    "print(len(sia_files))\n",
    "\n",
    "with xa.open_dataset(sia_files[0]) as ds:\n",
    "    ds_x = ds.x.values\n",
    "    ds_y = ds.y.values\n",
    "    ds_status_flag = ds.status_flag.values\n",
    "land = np.where(ds_status_flag[0] == 1, 1, np.nan)\n",
    "\n",
    "x, y = laea.transform_points(pc, buoys_sia.Lon.values, buoys_sia.Lat.values).T[:2]\n",
    "cols = np.round((x - ds_x[0]) / (ds_x[-1] - ds_x[0]) * ds_x.size).astype(int)\n",
    "rows = np.round((y - ds_y[0]) / (ds_y[-1] - ds_y[0]) * ds_y.size).astype(int)\n"
   ]
  },
  {
   "cell_type": "code",
   "execution_count": null,
   "metadata": {},
   "outputs": [],
   "source": [
    "overest_sum = np.zeros((ds_y.size, ds_x.size))\n",
    "overest_cnt = np.zeros((ds_y.size, ds_x.size))\n",
    "np.add.at(overest_sum, (rows, cols), age_underestimation)\n",
    "np.add.at(overest_cnt, (rows, cols), 1)\n",
    "overest_avg = overest_sum / overest_cnt\n",
    "overest_avg = overest_sum / overest_cnt\n",
    "overest_avg[overest_cnt == 0] = 0"
   ]
  },
  {
   "cell_type": "code",
   "execution_count": null,
   "metadata": {},
   "outputs": [],
   "source": [
    "fig, axs = plt.subplots(1, 3, figsize=(15, 5))\n",
    "h0 = axs[0].hist2d(buoys_sia.sia, buoys_sia.Age/365, [n_bins, n_bins], [[0,max_age],[0,max_age]], cmin=1, vmax=10000)[3]\n",
    "plt.colorbar(h0, ax=axs[0], shrink=0.5)\n",
    "axs[0].plot(bins_x, bins_y, 'r-')\n",
    "\n",
    "axs[0].set_title(f'Correct: {correct_ratio_weighted_sia * 100:.1f} %')\n",
    "\n",
    "h1 = axs[1].hist2d(buoys_max_age, buoys_sia.Age/365, [6, 24], [[0,6],[0,6]], cmin=1, vmax=20000)[3]\n",
    "axs[1].plot([0, 1, 1, 2, 2, 3, 3, 4, 4, 5, 5, 6], [1, 1, 2, 2, 3, 3, 4, 4, 5, 5, 6, 6], 'r--')\n",
    "plt.colorbar(h1, ax=axs[1], shrink=0.5)\n",
    "axs[1].set_title(f'Correct: {correct_ratio_max_sia * 100:.1f} %')\n",
    "\n",
    "for ax in axs:\n",
    "    ax.set_aspect('equal')\n",
    "axs[0].set_xlabel('LM-SIAge average age, years')\n",
    "axs[1].set_xlabel('LM-SIAge max age, years')\n",
    "axs[0].set_ylabel('IABP buoy age, years')\n",
    "\n",
    "\n",
    "imsh0 = axs[2].imshow(overest_avg, interpolation='nearest', clim=[0, 2])\n",
    "axs[2].imshow(land, interpolation='nearest', clim=[0, 2], cmap='gray')\n",
    "plt.colorbar(imsh0, ax=axs[2], shrink=0.5)\n",
    "axs[2].set_xlim([100, 300])\n",
    "axs[2].set_ylim([330, 100])\n",
    "axs[2].set_axis_off()\n",
    "axs[2].set_title('Age underestimation, years')\n",
    "\n",
    "plt.tight_layout()\n",
    "plt.savefig('../figures/figure15_validation.png', dpi=100, bbox_inches='tight', pad_inches=0.1)\n",
    "plt.show()"
   ]
  },
  {
   "cell_type": "code",
   "execution_count": null,
   "metadata": {},
   "outputs": [],
   "source": []
  }
 ],
 "metadata": {
  "kernelspec": {
   "display_name": "ice",
   "language": "python",
   "name": "python3"
  },
  "language_info": {
   "codemirror_mode": {
    "name": "ipython",
    "version": 3
   },
   "file_extension": ".py",
   "mimetype": "text/x-python",
   "name": "python",
   "nbconvert_exporter": "python",
   "pygments_lexer": "ipython3",
   "version": "3.13.3"
  }
 },
 "nbformat": 4,
 "nbformat_minor": 2
}
