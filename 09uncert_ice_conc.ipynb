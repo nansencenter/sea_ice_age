{
 "cells": [
  {
   "cell_type": "code",
   "execution_count": null,
   "id": "25a28168",
   "metadata": {},
   "outputs": [],
   "source": [
    "import numpy as np\n",
    "from netCDF4 import Dataset\n",
    "import matplotlib.pyplot as plt\n",
    "from scipy.ndimage import uniform_filter\n",
    "from scipy.interpolate import RectBivariateSpline\n",
    "from remeshing import get_area\n",
    "from scipy.spatial import cKDTree\n",
    "\n",
    "import os\n",
    "from datetime import datetime, timedelta\n",
    "import glob\n",
    "from scipy.ndimage import gaussian_filter\n",
    "from tqdm.notebook import tqdm\n",
    "\n",
    "from utils import get_mesh_files, fill_gaps\n",
    "\n",
    "%matplotlib inline"
   ]
  },
  {
   "cell_type": "code",
   "execution_count": null,
   "id": "f0fe954c",
   "metadata": {},
   "outputs": [],
   "source": [
    "def load_sic_data(ifile, mesh_src_file):\n",
    "    with np.load(ifile) as d:\n",
    "        sic_unc = d['sic_unc']\n",
    "    with np.load(mesh_src_file) as d:\n",
    "        x = d['x']\n",
    "        y = d['y']\n",
    "        t = d['t']\n",
    "        src2dst = d['src2dst']\n",
    "        weights = d['weights']\n",
    "    return sic_unc, x, y, t, src2dst, weights\n"
   ]
  },
  {
   "cell_type": "code",
   "execution_count": null,
   "id": "0172bfa1",
   "metadata": {},
   "outputs": [],
   "source": [
    "# filter size (Gaissian filter was 5, but weights are smaller for larger distances)\n",
    "size = 3\n",
    "\n",
    "# should be 2210 to cover 6 years\n",
    "n_steps = 2210 "
   ]
  },
  {
   "cell_type": "code",
   "execution_count": null,
   "id": "b07325a8",
   "metadata": {},
   "outputs": [],
   "source": [
    "sia_dir = '/data2/Anton/sia/cdr_1991_2023'\n",
    "mesh_dir = f'{sia_dir}/mesh'\n",
    "unc_dir = f'{sia_dir}/unc'\n",
    "sid_dir = '/data2/Anton/sia_sid_cdr_postproc'\n",
    "ifiles = sorted(glob.glob(f'{sid_dir}/*/*npz'))\n",
    "idates = [datetime.strptime(os.path.basename(ifile).split('-')[-1].split('.')[0], '%Y%m%d%H%M%S')\n",
    "          for ifile in ifiles]\n",
    "\n",
    "mesh_init_file = 'mesh_arctic_ease_25km_max7.npz'\n",
    "xc = np.load(mesh_init_file)['xc']\n",
    "yc = np.load(mesh_init_file)['yc']\n",
    "mask = np.load(mesh_init_file)['mask']\n",
    "mask_f = gaussian_filter(mask.astype(float), 1, truncate=1)"
   ]
  },
  {
   "cell_type": "code",
   "execution_count": null,
   "id": "86548db6",
   "metadata": {},
   "outputs": [],
   "source": [
    "start_indices = [i for i,j in enumerate(idates) if j.year > 2015 and j.month == 9 and j.day == 5]\n",
    "start_indices"
   ]
  },
  {
   "cell_type": "code",
   "execution_count": null,
   "id": "62b14a4f",
   "metadata": {},
   "outputs": [],
   "source": [
    "for start_idx in start_indices:\n",
    "    stop_idx = min(start_idx + n_steps, len(idates))\n",
    "    unc_sic_sum = None\n",
    "    start_date = idates[start_idx]\n",
    "    odir = f'{unc_dir}/{start_date.year}'\n",
    "    os.makedirs(odir, exist_ok=True)\n",
    "    for i in tqdm(range(start_idx, stop_idx), total=n_steps):\n",
    "        ifile = ifiles[i]\n",
    "        idate = idates[i]\n",
    "        ofile = f'{odir}/unc_sic_{start_date.strftime(\"%Y%m%d\")}_{idate.strftime(\"%Y%m%d\")}.npz'\n",
    "        if os.path.exists(ofile):\n",
    "            with np.load(ofile) as d:\n",
    "                unc_sic_sum = d['unc_sic']\n",
    "                sic_min = d['sic_min']\n",
    "            continue\n",
    "\n",
    "        mesh_file, mesh_dst_file = get_mesh_files(idate, mesh_dir, mesh_init_file)\n",
    "        unc_sic_grd, x, y, t, src2dst, weights = load_sic_data(ifile, mesh_file)\n",
    "        unc_sic_fil = fill_gaps(unc_sic_grd, np.isnan(unc_sic_grd), distance=144)\n",
    "        \n",
    "        # interpolate SIC uncertainty to mesh\n",
    "        unc_sic = RectBivariateSpline(xc, yc, unc_sic_fil[::-1], kx=1, ky=1)(y[t].mean(axis=1), x[t].mean(axis=1), grid=False)\n",
    "\n",
    "        sic_file = mesh_file.replace('mesh', 'sic')\n",
    "        c = np.load(sic_file)['c']\n",
    "\n",
    "        if unc_sic_sum is None:\n",
    "            # first time step\n",
    "            unc_sic_sum = np.array(unc_sic)\n",
    "            sic_min = np.array(c)\n",
    "        else:\n",
    "            # advect unc_sic_sum (from previous time step)\n",
    "            unc_sic_sum_pro = np.zeros(src2dst[:,1].max()+1)\n",
    "            np.add.at(unc_sic_sum_pro, src2dst[:,1], unc_sic_sum[src2dst[:,0]] * weights)\n",
    "            \n",
    "            # advect sic_min from previous time step\n",
    "            sic_min_pro = np.zeros(src2dst[:,1].max()+1)\n",
    "            np.add.at(sic_min_pro, src2dst[:,1], sic_min[src2dst[:,0]] * weights)\n",
    "\n",
    "            # keep uncertainty of the minimal value of SIC\n",
    "            min_sic_ids = c < sic_min_pro\n",
    "            unc_sic_sum = unc_sic_sum_pro\n",
    "            unc_sic_sum[min_sic_ids] = unc_sic[min_sic_ids]\n",
    "            \n",
    "            # keep minimal ice concentration\n",
    "            sic_min = np.min([sic_min_pro, c], axis=0)\n",
    "        np.savez(ofile, unc_sid=unc_sic_sum, sic_min=sic_min)\n",
    "\n",
    "    print(start_date)\n",
    "    fig, axs = plt.subplots(1, 1, figsize=(6, 6))\n",
    "    trp0 = axs.tripcolor(x, y, t, unc_sic_sum, cmap='jet')\n",
    "    plt.colorbar(trp0, ax=axs)\n",
    "    plt.show()            \n",
    "\n"
   ]
  },
  {
   "cell_type": "code",
   "execution_count": null,
   "id": "e40391cb",
   "metadata": {},
   "outputs": [],
   "source": [
    "ofile"
   ]
  }
 ],
 "metadata": {
  "kernelspec": {
   "display_name": "ice2",
   "language": "python",
   "name": "python3"
  },
  "language_info": {
   "codemirror_mode": {
    "name": "ipython",
    "version": 3
   },
   "file_extension": ".py",
   "mimetype": "text/x-python",
   "name": "python",
   "nbconvert_exporter": "python",
   "pygments_lexer": "ipython3",
   "version": "3.12.8"
  }
 },
 "nbformat": 4,
 "nbformat_minor": 5
}
