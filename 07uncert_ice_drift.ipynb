{
 "cells": [
  {
   "cell_type": "code",
   "execution_count": null,
   "id": "25a28168",
   "metadata": {},
   "outputs": [],
   "source": [
    "import numpy as np\n",
    "\n",
    "import os\n",
    "from datetime import datetime\n",
    "import glob\n",
    "from multiprocessing import Pool\n",
    "\n",
    "from scipy.ndimage import gaussian_filter\n",
    "\n",
    "from uncertainty import ComputeSidUncertainty\n",
    "\n",
    "%matplotlib inline"
   ]
  },
  {
   "cell_type": "code",
   "execution_count": null,
   "id": "b07325a8",
   "metadata": {},
   "outputs": [],
   "source": [
    "# filter size (Gaissian filter was 5, but weights are smaller for larger distances)\n",
    "size = 3\n",
    "\n",
    "# should be 2210 to cover 6 years\n",
    "n_steps = 2210 \n",
    "\n",
    "sia_dir = 'NERSC_arctic25km_sea_ice_age_v2p1'\n",
    "mesh_dir = f'{sia_dir}/mesh'\n",
    "unc_dir = f'{sia_dir}/unc'\n",
    "sid_dir = 'OSISAF_ice_drift_CDR_postproc'\n",
    "ifiles = sorted(glob.glob(f'{sid_dir}/*/ice_drift*npz'))\n",
    "idates = [datetime.strptime(os.path.basename(ifile).split('-')[-1].split('.')[0], '%Y%m%d%H%M%S')\n",
    "          for ifile in ifiles]\n",
    "print(f'Found {len(ifiles)} ice drift files from {idates[0]} to {idates[-1]}')\n",
    "\n",
    "mesh_init_file = 'mesh_arctic_ease_25km_max7.npz'\n",
    "xc = np.load(mesh_init_file)['xc']\n",
    "yc = np.load(mesh_init_file)['yc']"
   ]
  },
  {
   "cell_type": "markdown",
   "id": "56eed238",
   "metadata": {},
   "source": [
    "# Accumulate and save SID uncertainty\n",
    "$\\sigma_{i} = \\sqrt{<\\sigma_{i-1}^2> + \\sigma_S^2}$\n",
    "\n",
    "$\\sigma_S$ - uncertainty of smoothed SID from CDR\n",
    "\n",
    "$\\sigma_{i-1}$ - uncertainty from previous step\n",
    "\n",
    "$<>$ - advection operation\n",
    "\n",
    "$\\sigma_S = \\frac{\\sqrt{\\sum_j^N{\\sigma_{Oj}}}}{\\sqrt{N}}$\n",
    "\n",
    "$\\sigma_{Oj}$ - uncertaimty in neighbour $j$\n",
    "\n",
    "$N$ - number of neighbours"
   ]
  },
  {
   "cell_type": "code",
   "execution_count": null,
   "id": "a144977c",
   "metadata": {},
   "outputs": [],
   "source": [
    "start_indices = [i for i,j in enumerate(idates) if j.year > 2018 and j.month == 9 and j.day == 5]"
   ]
  },
  {
   "cell_type": "code",
   "execution_count": null,
   "id": "a84ac097",
   "metadata": {},
   "outputs": [],
   "source": [
    "csidu = ComputeSidUncertainty(ifiles, idates, mesh_dir, unc_dir, mesh_init_file, n_steps, size, xc, yc)\n",
    "with Pool(2) as p:\n",
    "    p.map(csidu.compute_uncertainty, start_indices)"
   ]
  },
  {
   "cell_type": "code",
   "execution_count": null,
   "id": "e40391cb",
   "metadata": {},
   "outputs": [],
   "source": []
  }
 ],
 "metadata": {
  "kernelspec": {
   "display_name": "ice",
   "language": "python",
   "name": "python3"
  },
  "language_info": {
   "codemirror_mode": {
    "name": "ipython",
    "version": 3
   },
   "file_extension": ".py",
   "mimetype": "text/x-python",
   "name": "python",
   "nbconvert_exporter": "python",
   "pygments_lexer": "ipython3",
   "version": "3.13.3"
  }
 },
 "nbformat": 4,
 "nbformat_minor": 5
}
