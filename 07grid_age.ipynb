{
 "cells": [
  {
   "cell_type": "code",
   "execution_count": null,
   "id": "07384149",
   "metadata": {},
   "outputs": [],
   "source": [
    "import os\n",
    "import glob\n",
    "import numpy as np\n",
    "import datetime as dt\n",
    "from multiprocessing import Pool\n",
    "from tqdm.notebook import tqdm\n",
    "import numpy as np\n",
    "import cartopy.crs as ccrs\n",
    "import cartopy.feature as cfeature\n",
    "\n",
    "import matplotlib.pyplot as plt\n",
    "from grid_age import GridAge"
   ]
  },
  {
   "cell_type": "code",
   "execution_count": null,
   "id": "5bff5017",
   "metadata": {},
   "outputs": [],
   "source": [
    "land_50m = cfeature.LAND\n",
    "sid_srs = ccrs.LambertAzimuthalEqualArea(central_longitude=0, central_latitude=90)"
   ]
  },
  {
   "cell_type": "code",
   "execution_count": null,
   "id": "94966fb7",
   "metadata": {},
   "outputs": [],
   "source": [
    "force = False\n",
    "lag_dir = 'data2/Anton/sia/cdr_1991_2023'\n",
    "srd_dir = f'{lag_dir}/age'\n",
    "\n",
    "mesh_init_file = 'mesh_arctic_ease_25km_max7.npz'\n",
    "xc = np.load(mesh_init_file)['xc']\n",
    "yc = np.load(mesh_init_file)['yc'][::-1]\n",
    "mask = np.load(mesh_init_file)['mask']\n",
    "xgrd, ygrd = np.meshgrid(xc, yc)\n",
    "\n",
    "sic = np.load('/Volumes/sim/data/OSISAF_ice_drift_CDR_postproc/1991/ice_drift_nh_ease2-750_cdr-v1p0_24h-199101011200.nc.npz')['c']\n",
    "landmask = np.isnan(sic).astype(float)\n",
    "landmask[landmask == 0] = np.nan"
   ]
  },
  {
   "cell_type": "code",
   "execution_count": null,
   "id": "ad9f1415",
   "metadata": {},
   "outputs": [],
   "source": [
    "age_files = sorted(glob.glob(f'{srd_dir}/*/age_????????.npz'))[:-69]\n",
    "print(len(age_files), age_files[0], age_files[-1])"
   ]
  },
  {
   "cell_type": "code",
   "execution_count": null,
   "id": "915ec6ca",
   "metadata": {},
   "outputs": [],
   "source": [
    "grid_age = GridAge(xgrd, ygrd, mask, force=force)"
   ]
  },
  {
   "cell_type": "code",
   "execution_count": null,
   "id": "a8f55aec",
   "metadata": {},
   "outputs": [],
   "source": [
    "with Pool(4) as p:\n",
    "    r = list(tqdm(p.imap(grid_age, age_files), total=len(age_files)))"
   ]
  },
  {
   "cell_type": "code",
   "execution_count": null,
   "id": "dbc5b9bf",
   "metadata": {},
   "outputs": [],
   "source": [
    "# make monthly averages\n",
    "age_dir = '/Volumes/sim/data/NERSC_arctic25km_sea_ice_age_v2p1/age_grd'\n",
    "\n",
    "for year in range(1991, 2025):\n",
    "    for month in range(1,13):\n",
    "        ofile = f'{age_dir}_monthly/age_{year:04d}{month:02d}01_grd.npz'\n",
    "        if os.path.exists(ofile):\n",
    "            print(f'Skipping {ofile} as it already exists.')\n",
    "            continue\n",
    "\n",
    "        year_dir = f'{age_dir}/{year:04d}'\n",
    "        month_files = sorted(glob.glob(f'{year_dir}/age_{year:04d}{month:02d}*.npz'))\n",
    "        if len(month_files) == 0:\n",
    "            print(f'No files found for {year:04d}-{month:02d}. Skipping.')\n",
    "            continue\n",
    "        print(len(month_files), month_files[0], month_files[-1])\n",
    "        age_data = [dict(**np.load(f)) for f in month_files]\n",
    "\n",
    "        max_fractions = []\n",
    "        for data in age_data:\n",
    "            max_fraction = max([int(key.split('_')[1].replace('yi','')) for key in age_data[0].keys() if 'fraction' in key and 'yi' in key])\n",
    "            max_fractions.append(max_fraction)\n",
    "        max_fraction = min(max_fractions)    \n",
    "\n",
    "        keys = ['age'] + [f'fraction_{i}yi' for i in range(1, max_fraction + 1)]\n",
    "        unc_keys = [f'{key}_unc' for key in keys]\n",
    "        avg_data = {}\n",
    "        for data in age_data:\n",
    "            for key in keys:\n",
    "                if key not in avg_data:\n",
    "                    avg_data[key] = 0\n",
    "                else:\n",
    "                    avg_data[key] += data[key]\n",
    "            for key in unc_keys:\n",
    "                if key not in avg_data:\n",
    "                    avg_data[key] = 0\n",
    "                else:\n",
    "                    avg_data[key] += data[key]**2\n",
    "\n",
    "        for key in avg_data:\n",
    "            avg_data[key] /= len(age_data)\n",
    "            if '_unc' in key:\n",
    "                avg_data[key] = np.sqrt(avg_data[key])       \n",
    "\n",
    "        np.savez(ofile, **avg_data)        "
   ]
  },
  {
   "cell_type": "code",
   "execution_count": null,
   "id": "b4ac6ff7",
   "metadata": {},
   "outputs": [],
   "source": []
  },
  {
   "cell_type": "code",
   "execution_count": null,
   "id": "d733f3a7",
   "metadata": {},
   "outputs": [],
   "source": []
  }
 ],
 "metadata": {
  "kernelspec": {
   "display_name": "ice",
   "language": "python",
   "name": "python3"
  },
  "language_info": {
   "codemirror_mode": {
    "name": "ipython",
    "version": 3
   },
   "file_extension": ".py",
   "mimetype": "text/x-python",
   "name": "python",
   "nbconvert_exporter": "python",
   "pygments_lexer": "ipython3",
   "version": "3.13.3"
  }
 },
 "nbformat": 4,
 "nbformat_minor": 5
}
