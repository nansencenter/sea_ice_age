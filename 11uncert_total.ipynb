{
 "cells": [
  {
   "cell_type": "code",
   "execution_count": 1,
   "id": "d075c42f",
   "metadata": {},
   "outputs": [],
   "source": [
    "import os\n",
    "import glob\n",
    "from datetime import datetime\n",
    "from multiprocessing import Pool\n",
    "\n",
    "import matplotlib.pyplot as plt\n",
    "\n",
    "from uncertainty import ComputeTotUncertainty\n",
    "\n",
    "%matplotlib inline"
   ]
  },
  {
   "cell_type": "code",
   "execution_count": 3,
   "id": "2236b348",
   "metadata": {},
   "outputs": [],
   "source": [
    "sid_dir = 'data2/Anton/sia_sid_cdr_postproc'\n",
    "sia_dir = 'data2/Anton/sia/cdr_1991_2023'\n",
    "mesh_dir = f'{sia_dir}/mesh'\n",
    "unc_dir = f'{sia_dir}/unc'\n",
    "age_dir = f'{sia_dir}/age'\n",
    "\n",
    "\n",
    "mesh_init_file = 'mesh_arctic_ease_25km_max7.npz'\n",
    "\n",
    "ifiles = sorted(glob.glob(f'{sid_dir}/*/ice_drift*npz'))\n",
    "idates = [datetime.strptime(os.path.basename(ifile).split('-')[-1].split('.')[0], '%Y%m%d%H%M')\n",
    "          for ifile in ifiles]\n",
    "\n",
    "start_index = idates.index(datetime(1991, 9, 15, 12))"
   ]
  },
  {
   "cell_type": "code",
   "execution_count": null,
   "id": "94b6541a",
   "metadata": {},
   "outputs": [],
   "source": [
    "idate = datetime(2024, 12, 31)\n",
    "#idate = datetime(2020,12,31)\n",
    "\n",
    "comp = ComputeTotUncertainty(mesh_dir, unc_dir, sid_dir, age_dir, mesh_init_file)\n",
    "a, c, f, x, y, t = comp.load_age(idate)\n",
    "\n",
    "print(f.shape)\n",
    "plt.tripcolor(x, y, t, f[0])\n",
    "plt.show()\n",
    "\n",
    "unc_obs = comp.load_unc_obs(idate)\n",
    "plt.tripcolor(x, y, t, unc_obs)\n",
    "plt.colorbar()\n",
    "plt.show()\n",
    "\n",
    "unc_myi = comp.load_unc_myi(idate)\n",
    "plt.tripcolor(x, y, t, unc_myi[0]) \n",
    "plt.colorbar()\n",
    "plt.show()\n",
    "\n",
    "unc_sid = comp.load_unc_sid(idate, unc_obs)\n",
    "plt.tripcolor(x, y, t, unc_sid[1])\n",
    "plt.colorbar()\n",
    "plt.show()\n",
    "\n",
    "unc_sic_sid = comp.load_unc_sidsic(idate, unc_obs)\n",
    "plt.tripcolor(x, y, t, unc_sic_sid[1])\n",
    "plt.colorbar()\n",
    "plt.show()\n",
    "\n",
    "unc_frac = comp.compute_unc_frac(unc_obs, unc_myi)\n",
    "plt.tripcolor(x, y, t, unc_frac[0])\n",
    "plt.colorbar()\n",
    "plt.show()\n",
    "\n",
    "unc_tot, unc_age = comp.compute_unc_tot(unc_frac, unc_sic_sid)\n",
    "\n",
    "plt.tripcolor(x, y, t, unc_tot[1])\n",
    "plt.colorbar()\n",
    "plt.show()\n",
    "\n",
    "plt.tripcolor(x, y, t, unc_age)\n",
    "plt.colorbar()\n",
    "plt.show()"
   ]
  },
  {
   "cell_type": "code",
   "execution_count": null,
   "id": "27cd1f24",
   "metadata": {},
   "outputs": [],
   "source": [
    "fig, axs = plt.subplots(len(f), 5, figsize=(14, 20), sharex=True, sharey=True)\n",
    "for i in range(len(f)):\n",
    "    trp0 = axs[i, 0].tripcolor(x, y, t, f[::-1][i], clim=[0, 100], cmap='jet')\n",
    "    trp1 = axs[i, 1].tripcolor(x, y, t, unc_frac[i], clim=[0, 10], cmap='jet')\n",
    "    trp2 = axs[i, 2].tripcolor(x, y, t, unc_sid[i], clim=[0, 300], cmap='jet')    \n",
    "    trp3 = axs[i, 3].tripcolor(x, y, t, unc_sic_sid[i], clim=[0, 25], cmap='jet')\n",
    "    trp4 = axs[i, 4].tripcolor(x, y, t, unc_tot[i], clim=[0, 25], cmap='jet')    \n",
    "    \n",
    "for ax in axs.flat:\n",
    "    ax.set_aspect('equal')\n",
    "    ax.set_axis_off()\n",
    "\n",
    "axs[0, 0].set_title('SIA fraction, 0 - 100 %')\n",
    "axs[0, 1].set_title('SIC Uncertainty 0 - 10 %')\n",
    "axs[0, 2].set_title('SID Uncertainty, 0 - 300 km')\n",
    "axs[0, 3].set_title('SIC<-SID Uncertainty, 0 - 25 %')\n",
    "axs[0, 4].set_title('Total Uncertainty, 0 - 25 %')\n",
    "\n",
    "plt.tight_layout()\n",
    "plt.show()"
   ]
  },
  {
   "cell_type": "code",
   "execution_count": null,
   "id": "2e9a9032",
   "metadata": {},
   "outputs": [],
   "source": [
    "comp = ComputeTotUncertainty(mesh_dir, unc_dir, sid_dir, age_dir, mesh_init_file)\n",
    "with Pool(6) as pool:\n",
    "    pool.map(comp.compute_uncertainty, idates[start_index:])"
   ]
  },
  {
   "cell_type": "code",
   "execution_count": null,
   "id": "352e9e0c",
   "metadata": {},
   "outputs": [],
   "source": []
  }
 ],
 "metadata": {
  "kernelspec": {
   "display_name": "ice",
   "language": "python",
   "name": "python3"
  },
  "language_info": {
   "codemirror_mode": {
    "name": "ipython",
    "version": 3
   },
   "file_extension": ".py",
   "mimetype": "text/x-python",
   "name": "python",
   "nbconvert_exporter": "python",
   "pygments_lexer": "ipython3",
   "version": "3.13.3"
  }
 },
 "nbformat": 4,
 "nbformat_minor": 5
}
