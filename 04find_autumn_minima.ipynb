{
 "cells": [
  {
   "cell_type": "code",
   "execution_count": null,
   "id": "65978e14",
   "metadata": {},
   "outputs": [],
   "source": [
    "import os\n",
    "import time\n",
    "import datetime as dt\n",
    "import glob\n",
    "from multiprocessing import Pool\n",
    "\n",
    "import tqdm\n",
    "import numpy as np\n",
    "from scipy.interpolate import RectBivariateSpline"
   ]
  },
  {
   "cell_type": "code",
   "execution_count": null,
   "id": "bd06a2e3",
   "metadata": {},
   "outputs": [],
   "source": [
    "ar_lim = [0.97642671, 1.02437728]\n",
    "force = False\n",
    "lag_dir = '/data2/Anton/sia/cdr_1991_2023'\n",
    "years = range(2020,2025)\n",
    "\n",
    "#lag_dir = '/data2/Anton/aria_sia'\n",
    "#years = range(1970,2040)"
   ]
  },
  {
   "cell_type": "code",
   "execution_count": null,
   "id": "b0e40487",
   "metadata": {},
   "outputs": [],
   "source": [
    "def find_minimum(year):\n",
    "    start_dates = [dt.datetime(year,9,5) + dt.timedelta(i) for i in range(11)]\n",
    "    stop_date = dt.datetime(year,9,15)\n",
    "    sic_dst_file = stop_date.strftime(f'{lag_dir}/sic/%Y/sic_%Y%m%d_%Y%m%d.npz')\n",
    "    if os.path.exists(sic_dst_file) and not force:\n",
    "        print(f'{sic_dst_file} exists')\n",
    "        return\n",
    "    c1s = []\n",
    "    for start_i, start_date in enumerate(start_dates):\n",
    "        sic_file = start_date.strftime(f'{lag_dir}/sic/%Y/sic_%Y%m%d.npz')\n",
    "        c0 = np.load(sic_file)['c']\n",
    "        prop_dates = start_dates[start_i:]\n",
    "        for prop_date in prop_dates[1:]:\n",
    "            # propagate SIC\n",
    "            mesh_file = prop_date.strftime(f'{lag_dir}/mesh/%Y/mesh_%Y%m%d.npz')\n",
    "            src2dst = np.load(mesh_file)['src2dst']\n",
    "            weights = np.load(mesh_file)['weights']\n",
    "            ar = np.load(mesh_file)['ar']\n",
    "            #ar = np.clip(ar, *ar_lim)\n",
    "            c1 = np.zeros(src2dst[:,1].max()+1)\n",
    "            np.add.at(c1, src2dst[:,1], c0[src2dst[:,0]] * weights)\n",
    "            c1 /= ar\n",
    "            c1 = np.clip(c1, 0, 100)\n",
    "\n",
    "            # cap by observed SIC\n",
    "            sic_file = prop_date.strftime(f'{lag_dir}/sic/%Y/sic_%Y%m%d.npz')\n",
    "            c1_obs = np.load(sic_file)['c']\n",
    "            c1[c1 > c1_obs] = c1_obs[c1 > c1_obs]\n",
    "            c0 = c1\n",
    "        c1s.append(c1)\n",
    "\n",
    "    c1_min = np.array(c1s).min(axis=0)\n",
    "    np.savez(sic_dst_file, c=c1_min)\n",
    "    print(sic_dst_file)\n",
    "\n",
    "for year in years:\n",
    "    find_minimum(year)\n"
   ]
  },
  {
   "cell_type": "code",
   "execution_count": null,
   "id": "bbea8be8",
   "metadata": {},
   "outputs": [],
   "source": []
  }
 ],
 "metadata": {
  "kernelspec": {
   "display_name": "ice2",
   "language": "python",
   "name": "python3"
  },
  "language_info": {
   "codemirror_mode": {
    "name": "ipython",
    "version": 3
   },
   "file_extension": ".py",
   "mimetype": "text/x-python",
   "name": "python",
   "nbconvert_exporter": "python",
   "pygments_lexer": "ipython3",
   "version": "3.12.8"
  }
 },
 "nbformat": 4,
 "nbformat_minor": 5
}
