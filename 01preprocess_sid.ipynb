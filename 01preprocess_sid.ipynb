{
 "cells": [
  {
   "cell_type": "code",
   "execution_count": null,
   "id": "2520b959",
   "metadata": {},
   "outputs": [],
   "source": [
    "from preprocessing import SID_loader_CDR, SID_loader_iCDR, load_and_save"
   ]
  },
  {
   "cell_type": "code",
   "execution_count": null,
   "id": "86dde127",
   "metadata": {},
   "outputs": [],
   "source": [
    "sid_data_dir_CDR = '/Volumes/sim/data/OSISAF_ice_drift_CDR_v1p0_merged'\n",
    "sid_data_dir_ICDR = '/Volumes/sim/data/OSISAF_ice_drift'\n",
    "sic_data_dir = '/Volumes/sim/data/OSISAF_ice_conc_CDR_v3p0'\n",
    "out_data_dir = '/Volumes/sim/data/OSISAF_ice_drift_CDR_postproc'\n",
    "min_sic = 15\n",
    "distance = 10"
   ]
  },
  {
   "cell_type": "code",
   "execution_count": null,
   "id": "793d5cab",
   "metadata": {},
   "outputs": [],
   "source": [
    "loader = SID_loader_CDR()\n",
    "for year in range(1992, 2021):\n",
    "    load_and_save(year, sid_data_dir_CDR, sic_data_dir, out_data_dir, loader, min_sic=min_sic, distance=distance, dst_date_offset=0)"
   ]
  },
  {
   "cell_type": "code",
   "execution_count": null,
   "id": "f3bad46b",
   "metadata": {},
   "outputs": [],
   "source": [
    "loader = SID_loader_iCDR(sid_data_dir_ICDR, sid_data_dir_CDR)\n",
    "for year in range(2021, 2025):\n",
    "    load_and_save(year, sid_data_dir_ICDR, sic_data_dir, out_data_dir, loader, min_sic=min_sic, distance=distance, dst_date_offset=-1)"
   ]
  }
 ],
 "metadata": {
  "kernelspec": {
   "display_name": "ice",
   "language": "python",
   "name": "python3"
  },
  "language_info": {
   "codemirror_mode": {
    "name": "ipython",
    "version": 3
   },
   "file_extension": ".py",
   "mimetype": "text/x-python",
   "name": "python",
   "nbconvert_exporter": "python",
   "pygments_lexer": "ipython3",
   "version": "3.13.3"
  }
 },
 "nbformat": 4,
 "nbformat_minor": 5
}
