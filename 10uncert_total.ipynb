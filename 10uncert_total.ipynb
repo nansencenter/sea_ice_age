{
 "cells": [
  {
   "cell_type": "code",
   "execution_count": null,
   "id": "d075c42f",
   "metadata": {},
   "outputs": [],
   "source": [
    "import os\n",
    "import glob\n",
    "from datetime import datetime\n",
    "from tqdm.notebook import tqdm\n",
    "from uncertainty import ComputeTotUncertainty\n",
    "\n",
    "%matplotlib inline"
   ]
  },
  {
   "cell_type": "code",
   "execution_count": null,
   "id": "2236b348",
   "metadata": {},
   "outputs": [],
   "source": [
    "sid_dir = 'OSISAF_ice_drift_CDR_postproc'\n",
    "sia_dir = 'NERSC_arctic25km_sea_ice_age_v2p1'\n",
    "mesh_dir = f'{sia_dir}/mesh'\n",
    "unc_dir = f'{sia_dir}/unc'\n",
    "age_dir = f'{sia_dir}/age'\n",
    "\n",
    "\n",
    "mesh_init_file = 'mesh_arctic_ease_25km_max7.npz'\n",
    "\n",
    "ifiles = sorted(glob.glob(f'{sid_dir}/*/ice_drift*npz'))\n",
    "idates = [datetime.strptime(os.path.basename(ifile).split('-')[-1].split('.')[0], '%Y%m%d%H%M')\n",
    "          for ifile in ifiles]\n",
    "\n",
    "start_index = idates.index(datetime(2020, 9, 15, 12))"
   ]
  },
  {
   "cell_type": "code",
   "execution_count": null,
   "id": "2e9a9032",
   "metadata": {},
   "outputs": [],
   "source": [
    "comp = ComputeTotUncertainty(mesh_dir, unc_dir, sid_dir, age_dir, mesh_init_file)\n",
    "for idate in tqdm(idates[start_index:]):\n",
    "    comp.compute_uncertainty(idate)"
   ]
  },
  {
   "cell_type": "code",
   "execution_count": null,
   "id": "a66ea0f2",
   "metadata": {},
   "outputs": [],
   "source": []
  }
 ],
 "metadata": {
  "kernelspec": {
   "display_name": "ice",
   "language": "python",
   "name": "python3"
  },
  "language_info": {
   "codemirror_mode": {
    "name": "ipython",
    "version": 3
   },
   "file_extension": ".py",
   "mimetype": "text/x-python",
   "name": "python",
   "nbconvert_exporter": "python",
   "pygments_lexer": "ipython3",
   "version": "3.13.3"
  }
 },
 "nbformat": 4,
 "nbformat_minor": 5
}
