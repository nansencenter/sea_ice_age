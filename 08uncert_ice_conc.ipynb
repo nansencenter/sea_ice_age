{
 "cells": [
  {
   "cell_type": "code",
   "execution_count": null,
   "id": "25a28168",
   "metadata": {},
   "outputs": [],
   "source": [
    "import glob\n",
    "from datetime import datetime\n",
    "import os\n",
    "from multiprocessing import Pool\n",
    "\n",
    "import numpy as np\n",
    "from scipy.ndimage import gaussian_filter\n",
    "\n",
    "from uncertainty import ComputeSicUncertainty\n",
    "\n",
    "%matplotlib inline"
   ]
  },
  {
   "cell_type": "code",
   "execution_count": null,
   "id": "b07325a8",
   "metadata": {},
   "outputs": [],
   "source": [
    "n_steps = 2210  # should be 2210 to cover 6 years\n",
    "\n",
    "sia_dir = 'NERSC_arctic25km_sea_ice_age_v2p1'\n",
    "mesh_dir = f'{sia_dir}/mesh'\n",
    "unc_dir = f'{sia_dir}/unc'\n",
    "sid_dir = 'OSISAF_ice_drift_CDR_postproc'\n",
    "ifiles = sorted(glob.glob(f'{sid_dir}/20*/ice_drift*npz'))\n",
    "idates = [datetime.strptime(os.path.basename(ifile).split('-')[-1].split('.')[0], '%Y%m%d%H%M%S')\n",
    "          for ifile in ifiles]\n",
    "print(f'Found {len(ifiles)} ice drift files from {idates[0]} to {idates[-1]}')\n",
    "\n",
    "mesh_init_file = 'mesh_arctic_ease_25km_max7.npz'\n",
    "xc = np.load(mesh_init_file)['xc']\n",
    "yc = np.load(mesh_init_file)['yc']\n",
    "mask = np.load(mesh_init_file)['mask']\n",
    "mask_f = gaussian_filter(mask.astype(float), 1, truncate=1)"
   ]
  },
  {
   "cell_type": "code",
   "execution_count": null,
   "id": "86548db6",
   "metadata": {},
   "outputs": [],
   "source": [
    "start_indices = [i for i,j in enumerate(idates) if j.year > 2018 and j.month == 9 and j.day == 5]\n",
    "start_indices"
   ]
  },
  {
   "cell_type": "code",
   "execution_count": null,
   "id": "62b14a4f",
   "metadata": {},
   "outputs": [],
   "source": [
    "csu = ComputeSicUncertainty(ifiles, idates, n_steps, mesh_init_file, mesh_dir, unc_dir, xc, yc)\n",
    "with Pool(2) as p:\n",
    "    p.map(csu.compute_uncertainty, start_indices)\n"
   ]
  },
  {
   "cell_type": "markdown",
   "id": "a88e8bac",
   "metadata": {},
   "source": [
    "Uncertainty of the produced sea ice age variable is computed from the uncertainties of the ice age fractions ($C_i$) multiplied by age ($A$) of the fraction: \n",
    "\n",
    "$\\sigma_{SIA}^2 = \\sum{ A_i * \\sigma_{C_{iY}}^2 }, i=1..6$,\n",
    "\n",
    "where $i$ is the index of the sea ice age fraction: $i=1$ for one-year old ice (i.e., $C_{1Y}$), $i=2$ for two-year old ice, etc.\n",
    "\n",
    "Each ice age fraction is computed from values of MYI advected for various time (see Eq. NNN). Therefore, the uncertainty of each fraction is computed from uncertaimties of advected MYI fields:\n",
    "\n",
    "$\\sigma_{C_{iY}}^2 = \\sum{ \\sigma_{C_{A,j}}^2 }, j = 1..6$,\n",
    "\n",
    "where $j$ is the index of the advected MYI field, with $j=1$ being the yongest advected MYI field.\n",
    "\n",
    "Uncertainty of the FYI is computed using the uncertainty from the satellite SIC observations and the youngest advected MYI field:\n",
    "\n",
    "$\\sigma_{FYI}^2 = \\sigma_{C_{OBS}}^2 + \\sigma_{C_{A,1}}^2$\n",
    "\n",
    "Uncertaimty of the advected MYI field is computed from uncertainties of the satellite derived SIC and SID:\n",
    "\n",
    "$\\sigma_{C_{A,j}}^2 = \\sigma_{SIC,j}^2 + \\sigma_{SID,j}^2$\n",
    "\n",
    "Both SIC and SID uncertaimties are iteratively accumulated during the advection of the MYI fields. \n",
    "\n",
    "The concentration in the advected field is capped by the observed concentration. In other words it is a minimum values of the advected and the observed concentration (see Eq. NNN). Therefore, the uncertainty of the advected field is the uncertainty of the minimal concentration:\n",
    "\n",
    "$\\sigma_{SIC,j,n}^2 = $\n",
    "\n",
    "$ k_n \\left< \\sigma_{SIC,j,n-1}^2 \\right> \\text{, if } SIC_{n-1} < C_{OBS,n}$\n",
    "\n",
    "$\\sigma_{C_{OBS,n}}^2 \\text{, otherwise}$\n",
    "\n",
    "where $n$ denotes the current step, $n-1$ - the previous step, $\\left< \\right>$ - operation of advection, $k$ - factor for change of area (and, therefore, uncertainty) due to divergence/convergence (see Eq. NNN).\n",
    "\n",
    "\n",
    "The uncertainty associated with the drift is computed the following way. First, the uncertainty of the smoothed ice drift product ($\\sigma_{S}$) is computed using the provided uncertainties of the OSI-SAF SID product ($\\sigma_D$):\n",
    "\n",
    "$\\sigma_{S}^2 = \\frac{\\sum_k^N{\\sigma_{D_k}}}{N}$,\n",
    "\n",
    "where $\\sigma_{D_k}$ is the uncertaimty of gridded ice drift in a $k$-th neighbour and $N$ is number of neighbours.\n",
    "\n",
    "Next, the integrated uncertainty of the ice drift ($\\sigma_{I}$) is iteratively acumulated with advection:\n",
    "\n",
    "$\\sigma_{I,n}^2 = \\left< \\sigma_{I,n-1}^2 \\right> + \\sigma_{S}^2$\n",
    "\n",
    "After some steps of advection, the integrated uncertainty of sea ice drift defines a radius of a circle, where the advected mesh element could have drifted. This circle may include other advected elements with their respective concentrations. Therefore the uncertainty of advected MYI concentration, associated with the uncertaimty of ice drift $\\sigma_{SID,j}$ is computed as a standard deviation of concentrations in this circle:\n",
    "\n",
    "$\\sigma_{SID,j}^2 = (\\sum_m^M{ C_{A,j,m} - \\hat{C}_{A,j})}^2/M$\n",
    "\n",
    "where $m$ is the index of the elements in the circle, $\\hat{C}_{A,j}$ average concentration in the circle, M – number of elements in the circle.\n"
   ]
  },
  {
   "cell_type": "code",
   "execution_count": null,
   "id": "d628b820",
   "metadata": {},
   "outputs": [],
   "source": [
    "import matplotlib.pyplot as plt"
   ]
  },
  {
   "cell_type": "code",
   "execution_count": null,
   "id": "985eff43",
   "metadata": {},
   "outputs": [],
   "source": [
    "dst_date = '20250701'\n",
    "#ifile0 = f'data2/Anton/sia/cdr_1991_2023/unc/1991/unc_sic_old/unc_sic_19910905_{dst_date}.npz'\n",
    "ifile1 = f'NERSC_arctic25km_sea_ice_age_v2p1/unc/2024/unc_sic_20240905_{dst_date}.npz'\n",
    "afile = f'NERSC_arctic25km_sea_ice_age_v2p1/age/{dst_date[:4]}/age_{dst_date}.npz'\n",
    "\n",
    "with np.load(afile) as f:\n",
    "    x = f['x']\n",
    "    y = f['y']\n",
    "    t = f['t']\n",
    "\n",
    "#with np.load(ifile0) as f:\n",
    "#    unc_sic0 = f['unc_sic']\n",
    "\n",
    "with np.load(ifile1) as f:\n",
    "    unc_sic1 = f['unc_sic']\n",
    "\n",
    "fig, axs = plt.subplots(1, 2, figsize=(12, 6))\n",
    "#axs[0].tripcolor(x, y, t, unc_sic0, cmap='jet', clim=[0, 7])\n",
    "axs[1].tripcolor(x, y, t, unc_sic1, cmap='jet', clim=[0, 7])"
   ]
  },
  {
   "cell_type": "code",
   "execution_count": null,
   "id": "054d54d4",
   "metadata": {},
   "outputs": [],
   "source": []
  },
  {
   "cell_type": "code",
   "execution_count": null,
   "id": "9c7db64b",
   "metadata": {},
   "outputs": [],
   "source": []
  }
 ],
 "metadata": {
  "kernelspec": {
   "display_name": "ice",
   "language": "python",
   "name": "python3"
  },
  "language_info": {
   "codemirror_mode": {
    "name": "ipython",
    "version": 3
   },
   "file_extension": ".py",
   "mimetype": "text/x-python",
   "name": "python",
   "nbconvert_exporter": "python",
   "pygments_lexer": "ipython3",
   "version": "3.13.3"
  }
 },
 "nbformat": 4,
 "nbformat_minor": 5
}
