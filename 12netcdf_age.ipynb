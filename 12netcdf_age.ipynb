{
 "cells": [
  {
   "cell_type": "code",
   "execution_count": null,
   "id": "aa8456ab",
   "metadata": {},
   "outputs": [],
   "source": [
    "import glob\n",
    "from tqdm.notebook import tqdm\n",
    "from grid_age import ExportNetcdf"
   ]
  },
  {
   "cell_type": "code",
   "execution_count": null,
   "id": "6bda2881",
   "metadata": {},
   "outputs": [],
   "source": [
    "lag_dir = 'NERSC_arctic25km_sea_ice_age_v2p1'\n",
    "age_grd_dir = f'{lag_dir}/age_grd'\n",
    "dst_root_dir = f'{lag_dir}/nc'\n",
    "osisaf_sic_dir = '/Volumes/sim/data/OSISAF_ice_conc_CDR_v3p0/'\n",
    "\n",
    "age_grd_files = sorted(glob.glob(f'{age_grd_dir}/*/age_????????_grd.npz'))\n",
    "export_netcdf = ExportNetcdf(age_grd_dir, dst_root_dir, osisaf_sic_dir, monthly=False, force=False)\n",
    "export_netcdf.set_attributes()\n",
    "\n",
    "for age_grd_file in tqdm(age_grd_files):\n",
    "    export_netcdf(age_grd_file)\n"
   ]
  },
  {
   "cell_type": "code",
   "execution_count": null,
   "id": "6fe0b9f5",
   "metadata": {},
   "outputs": [],
   "source": [
    "lag_dir = 'NERSC_arctic25km_sea_ice_age_v2p1'\n",
    "age_grd_dir = f'{lag_dir}/age_grd_monthly'\n",
    "dst_root_dir = f'{lag_dir}/nc_new_monthly'\n",
    "osisaf_sic_dir = '/Volumes/sim/data/OSISAF_ice_conc_CDR_v3p0/'\n",
    "\n",
    "age_grd_files = sorted(glob.glob(f'{age_grd_dir}/age_????????_grd.npz'))\n",
    "\n",
    "export_netcdf = ExportNetcdf(age_grd_dir, dst_root_dir, osisaf_sic_dir, monthly=True, force=True)\n",
    "export_netcdf.set_attributes()\n",
    "\n",
    "for age_grd_file in tqdm(age_grd_files):\n",
    "    export_netcdf(age_grd_file)\n"
   ]
  },
  {
   "cell_type": "code",
   "execution_count": null,
   "id": "905e9771",
   "metadata": {},
   "outputs": [],
   "source": []
  }
 ],
 "metadata": {
  "kernelspec": {
   "display_name": "ice",
   "language": "python",
   "name": "python3"
  },
  "language_info": {
   "codemirror_mode": {
    "name": "ipython",
    "version": 3
   },
   "file_extension": ".py",
   "mimetype": "text/x-python",
   "name": "python",
   "nbconvert_exporter": "python",
   "pygments_lexer": "ipython3",
   "version": "3.13.3"
  }
 },
 "nbformat": 4,
 "nbformat_minor": 5
}
