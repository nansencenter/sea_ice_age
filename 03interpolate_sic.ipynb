{
 "cells": [
  {
   "cell_type": "code",
   "execution_count": null,
   "id": "1882709e",
   "metadata": {},
   "outputs": [],
   "source": [
    "import glob\n",
    "import os\n",
    "\n",
    "import matplotlib.pyplot as plt\n",
    "from multiprocessing import Pool\n",
    "import numpy as np\n",
    "from scipy.interpolate import RectBivariateSpline\n",
    "from tqdm import tqdm\n",
    "\n",
    "%matplotlib inline"
   ]
  },
  {
   "cell_type": "code",
   "execution_count": null,
   "id": "63208748",
   "metadata": {},
   "outputs": [],
   "source": [
    "sid_dir = 'OSISAF_ice_drift_CDR_postproc'\n",
    "lag_dir = 'NERSC_arctic25km_sea_ice_age_v2p1'\n",
    "\n",
    "mesh_files = sorted(glob.glob(f'{lag_dir}/mesh/2025/mesh_*npz'))\n",
    "print(len(mesh_files), mesh_files[0], mesh_files[-1])\n",
    "\n",
    "# Load all inital values\n",
    "mesh_init_file = 'mesh_arctic_ease_25km_max7.npz'\n",
    "xc = np.load(mesh_init_file)['xc']\n",
    "yc = np.load(mesh_init_file)['yc']\n",
    "landmask = np.load(mesh_init_file)['landmask']\n",
    "min_lm = 0.5\n",
    "force = False"
   ]
  },
  {
   "cell_type": "code",
   "execution_count": null,
   "id": "019742ba",
   "metadata": {},
   "outputs": [],
   "source": [
    "def interpolate(mesh_file):\n",
    "    basename = os.path.basename(mesh_file)\n",
    "    sic_dst_file = mesh_file.replace(\"mesh_\", \"sic_\").replace(\"/mesh/\", \"/sic/\")\n",
    "    if os.path.exists(sic_dst_file) and not force:\n",
    "        return\n",
    "    print(sic_dst_file)\n",
    "    mesh_date = basename.split('.')[0].split('_')[-1]\n",
    "    mesh_year = mesh_date[:4]\n",
    "    # load mesh\n",
    "    with np.load(mesh_file) as data:\n",
    "        x = data['x']\n",
    "        y = data['y']\n",
    "        t = data['t']\n",
    "\n",
    "    # load SIC\n",
    "    file_mask = f'{sid_dir}/{mesh_year}/ice_drift_nh_ease*{mesh_date}1200.nc.npz'\n",
    "    try:\n",
    "        sic_src_file = glob.glob(file_mask)[0]\n",
    "    except:\n",
    "        raise ValueError(f'Cannot find {file_mask}')\n",
    "    try:\n",
    "        with np.load(sic_src_file) as data:\n",
    "            cgrd = data['c']\n",
    "    except:\n",
    "        print(f'Cannot load c from {sic_src_file}')\n",
    "        raise ValueError\n",
    "    cgrd[np.isnan(cgrd)] = 0\n",
    "\n",
    "    # interpolate SIC\n",
    "    try:\n",
    "        c = RectBivariateSpline(xc, yc, cgrd[::-1], kx=1, ky=1)(y[t].mean(axis=1), x[t].mean(axis=1), grid=False)\n",
    "    except:\n",
    "        raise ValueError(f'Fail to interpolate SIC in {mesh_file}')\n",
    "    # interpolate landmask\n",
    "    try:\n",
    "        lm = RectBivariateSpline(xc, yc, landmask[::-1], kx=1, ky=1)(y[t].mean(axis=1), x[t].mean(axis=1), grid=False)\n",
    "    except:\n",
    "        raise ValueError(f'Fail to interpolate LM in {mesh_file}')\n",
    "    # clear land elements\n",
    "    c[lm > min_lm] = 0\n",
    "    os.makedirs(os.path.split(sic_dst_file)[0], exist_ok=True)\n",
    "    np.savez(sic_dst_file, c=c)\n",
    "\n",
    "for mesh_file in tqdm(mesh_files, desc=\"Interpolating SIC\"):\n",
    "    interpolate(mesh_file)"
   ]
  },
  {
   "cell_type": "code",
   "execution_count": null,
   "id": "98368f1c",
   "metadata": {},
   "outputs": [],
   "source": [
    "year = '2025'\n",
    "date = '0731'\n",
    "cgrd = np.load(glob.glob(f'{sid_dir}/{year}/ice_drift_nh_ease*{year}{date}1200.nc.npz')[0])['c']\n",
    "c = np.load(f'{lag_dir}/sic/{year}/sic_{year}{date}.npz')['c']\n",
    "x = np.load(f'{lag_dir}/mesh/{year}/mesh_{year}{date}.npz')['x']\n",
    "y = np.load(f'{lag_dir}/mesh/{year}/mesh_{year}{date}.npz')['y']\n",
    "t = np.load(f'{lag_dir}/mesh/{year}/mesh_{year}{date}.npz')['t']\n",
    "\n",
    "fig, ax = plt.subplots(1,2, figsize=(20,10))\n",
    "ax[0].imshow(cgrd, extent=[xc.min(), xc.max(), yc.min(), yc.max()])\n",
    "ax[1].tripcolor(x, y, c, triangles=t)\n",
    "\n",
    "for a in ax:\n",
    "    a.set_xlim([-1500, 1500])\n",
    "    a.set_ylim([-1500, 1500])\n",
    "plt.show()"
   ]
  },
  {
   "cell_type": "code",
   "execution_count": null,
   "id": "6957b153",
   "metadata": {},
   "outputs": [],
   "source": []
  }
 ],
 "metadata": {
  "kernelspec": {
   "display_name": "ice",
   "language": "python",
   "name": "python3"
  },
  "language_info": {
   "codemirror_mode": {
    "name": "ipython",
    "version": 3
   },
   "file_extension": ".py",
   "mimetype": "text/x-python",
   "name": "python",
   "nbconvert_exporter": "python",
   "pygments_lexer": "ipython3",
   "version": "3.13.3"
  }
 },
 "nbformat": 4,
 "nbformat_minor": 5
}
