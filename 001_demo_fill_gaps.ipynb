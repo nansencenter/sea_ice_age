{
 "cells": [
  {
   "cell_type": "code",
   "execution_count": null,
   "id": "62528609",
   "metadata": {},
   "outputs": [],
   "source": [
    "import datetime as dt\n",
    "import glob\n",
    "import os\n",
    "\n",
    "import matplotlib.pyplot as plt\n",
    "import numpy as np\n",
    "from nansat import NSR, Domain\n",
    "\n",
    "from iceagelib import fill_med_osi_uv_2, fill_gap_sic, get_osi_uvf, get_osi_date, get_osi_sic\n",
    "\n",
    "%matplotlib inline"
   ]
  },
  {
   "cell_type": "code",
   "execution_count": null,
   "id": "2ca9c88f",
   "metadata": {},
   "outputs": [],
   "source": [
    "fill_func = fill_med_osi_uv_2\n",
    "min_conc = 0.05\n",
    "n = 3\n",
    "y,x = np.ogrid[-n:n+1, -n:n+1]\n",
    "mask = x*x + y*y <= n*n\n",
    "print(mask.shape)\n",
    "print(mask)\n",
    "footprint = [mask, mask]\n",
    "zf = 2\n",
    "osi_nsr = NSR('+proj=stere +a=6378273 +b=6356889.44891 +lat_0=90 +lat_ts=70 +lon_0=-45')\n",
    "sic_dom = Domain(osi_nsr, '-te -3850000 -5350000 3750000 5850000 -tr 10000 10000')\n",
    "sid_dom_x = Domain(osi_nsr, '-te -3781250 -5281250 3656250 5781250 -tr 31250 31250')\n",
    "\n",
    "\n",
    "# process 10 files for testing\n",
    "start = 0\n",
    "stop = 30\n",
    "glob_mask = '201[2,3,4,5,6,7]*'\n"
   ]
  },
  {
   "cell_type": "code",
   "execution_count": null,
   "id": "e6dc4bf3",
   "metadata": {},
   "outputs": [],
   "source": [
    "sic_dir = '/Data/sat/downloads/osi_ice_conc_nh_postere'\n",
    "\n",
    "sic_26 = get_osi_sic(sic_dir, dt.datetime(2012,11,26), force_grb=True, improve=False)\n",
    "sic_27 = get_osi_sic(sic_dir, dt.datetime(2012,11,27), force_grb=True, improve=False)\n",
    "sic_28 = get_osi_sic(sic_dir, dt.datetime(2012,11,28), force_grb=True, improve=False)\n",
    "\n",
    "fig, ax = plt.subplots(1,3,figsize=(15,5))\n",
    "ax[0].imshow(sic_26, clim=[0,1.1])\n",
    "ax[1].imshow(sic_27, clim=[0,1.1])\n",
    "ax[2].imshow(sic_28, clim=[0,1.1])\n",
    "plt.show()"
   ]
  },
  {
   "cell_type": "code",
   "execution_count": null,
   "id": "26bf8fa2",
   "metadata": {},
   "outputs": [],
   "source": [
    "## 1. FILL GAPS IN SIC\n",
    "dates2fix = [\n",
    "    {'A': 20121126, 'B': 20121128, 'C': 20121127},\n",
    "]\n",
    "\n",
    "for date2fix in dates2fix:\n",
    "    fill_gap_sic(sic_dir, date2fix['A'], date2fix['B'], date2fix['C'])\n",
    "\n",
    "sic_27 = get_osi_sic(sic_dir, dt.datetime(2012,11,27))\n",
    "plt.imshow(sic_27, clim=[0,1.1])"
   ]
  },
  {
   "cell_type": "code",
   "execution_count": null,
   "id": "9e332aa8",
   "metadata": {},
   "outputs": [],
   "source": [
    "sid_dir = '/Data/sat/downloads/osi405c_demo_archive'\n",
    "sid_files = sorted(glob.glob(f'{sid_dir}/ice_drift_nh_polstere-625_multi-oi_{glob_mask}.nc'))[start:stop]\n",
    "sid_file = sid_files[0]\n",
    "uvf = None"
   ]
  },
  {
   "cell_type": "code",
   "execution_count": null,
   "id": "b56cf0fe",
   "metadata": {},
   "outputs": [],
   "source": [
    "u, v, f = get_osi_uvf(sid_file)\n",
    "sid_date = get_osi_date(sid_file)\n",
    "c = get_osi_sic(sic_dir, sid_date)\n",
    "u1, v1, c1, uvf = fill_func(u, v, c, sid_dom_x=sid_dom_x, sic_dom=sic_dom, uvf0=uvf, footprint=footprint, min_conc=min_conc, zf=zf)"
   ]
  },
  {
   "cell_type": "code",
   "execution_count": null,
   "id": "9b4273c2",
   "metadata": {},
   "outputs": [],
   "source": [
    "fig, ax = plt.subplots(1,3, figsize=(15,5))\n",
    "ax[0].imshow(u, interpolation='nearest')\n",
    "ax[0].set_ylim([120,70])\n",
    "ax[0].set_xlim([30, 80])\n",
    "ax[1].imshow(u1, interpolation='nearest')\n",
    "ax[1].set_xlim([200, 500])\n",
    "ax[1].set_ylim([800, 400])\n",
    "ax[2].imshow(c1, interpolation='nearest')\n",
    "ax[2].set_xlim([200, 500])\n",
    "ax[2].set_ylim([800, 400])\n",
    "plt.show()\n"
   ]
  },
  {
   "cell_type": "code",
   "execution_count": null,
   "id": "f6c0fea1",
   "metadata": {},
   "outputs": [],
   "source": [
    "!python 01fillgap_osi.py"
   ]
  },
  {
   "cell_type": "code",
   "execution_count": null,
   "id": "967fab7a",
   "metadata": {},
   "outputs": [],
   "source": []
  }
 ],
 "metadata": {
  "kernelspec": {
   "display_name": "Python 3 (ipykernel)",
   "language": "python",
   "name": "python3"
  },
  "language_info": {
   "codemirror_mode": {
    "name": "ipython",
    "version": 3
   },
   "file_extension": ".py",
   "mimetype": "text/x-python",
   "name": "python",
   "nbconvert_exporter": "python",
   "pygments_lexer": "ipython3",
   "version": "3.10.2"
  }
 },
 "nbformat": 4,
 "nbformat_minor": 5
}
