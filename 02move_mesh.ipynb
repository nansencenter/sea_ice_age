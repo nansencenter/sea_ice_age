{
 "cells": [
  {
   "cell_type": "code",
   "execution_count": null,
   "id": "2274645a",
   "metadata": {},
   "outputs": [],
   "source": [
    "from datetime import datetime\n",
    "import glob\n",
    "import os\n",
    "\n",
    "import matplotlib.pyplot as plt\n",
    "import numpy as np\n",
    "from scipy.ndimage import gaussian_filter\n",
    "\n",
    "from utils import (\n",
    "    get_mesh_files,\n",
    "    load_data,\n",
    "    advect_nodes,\n",
    "    remesh,\n",
    "    optimize_mesh,\n",
    "    compute_mapping,\n",
    "    get_area_ratio,\n",
    "    resample_velocities\n",
    ")\n",
    "\n",
    "np.seterr(divide='ignore', invalid='ignore')\n",
    "%matplotlib inline"
   ]
  },
  {
   "cell_type": "code",
   "execution_count": null,
   "id": "5ff7c315",
   "metadata": {},
   "outputs": [],
   "source": [
    "mesh_init_file = 'mesh_arctic_ease_25km_max7.npz'\n",
    "xc = np.load(mesh_init_file)['xc']\n",
    "yc = np.load(mesh_init_file)['yc']\n",
    "mask = np.load(mesh_init_file)['mask']\n",
    "mask_f = gaussian_filter(mask.astype(float), 1, truncate=1)"
   ]
  },
  {
   "cell_type": "code",
   "execution_count": null,
   "id": "35b8ec2e",
   "metadata": {},
   "outputs": [],
   "source": [
    "force = False\n",
    "min_edge_length = 13\n",
    "max_edge_length = 38\n",
    "min_edge_angle = 15\n",
    "min_triangles = 5\n",
    "search_dist = 50\n",
    "max_dist0 = 50\n",
    "min_area = 20\n",
    "max_mask_fix_node=0.15\n",
    "max_mask_zero_speed=0.6\n",
    "\n",
    "sid_dir = '/Data/sim/data/OSISAF_ice_drift_CDR_postproc'\n",
    "lag_dir = '/data2/Anton/sia/cdr_1991_2023/mesh'\n",
    "ifiles = sorted(glob.glob(f'{sid_dir}/*/*npz'))[12460:]\n",
    "\n",
    "idates = [datetime.strptime(os.path.basename(ifile).split('-')[-1].split('.')[0], '%Y%m%d%H%M%S')\n",
    "          for ifile in ifiles]\n",
    "print(len(ifiles), idates[0], idates[-1])"
   ]
  },
  {
   "cell_type": "code",
   "execution_count": null,
   "id": "c2010e47",
   "metadata": {
    "scrolled": false
   },
   "outputs": [],
   "source": [
    "# MOVE MESH\n",
    "#for ifile, idate in tqdm(zip(ifiles, idates), total=len(ifiles)):\n",
    "ifile = ifiles[0]\n",
    "idate = idates[0]\n",
    "\n",
    "\n",
    "mesh_src_file, mesh_dst_file = get_mesh_files(idate, lag_dir, mesh_init_file)\n",
    "#if os.path.exists(mesh_dst_file) and not force:\n",
    "#    continue\n",
    "u, v, tri0 = load_data(ifile, mesh_src_file)\n",
    "u0, v0, fixed_nodes_idx = resample_velocities(u, v, mask_f, xc, yc, tri0.x, tri0.y, max_mask_fix_node, max_mask_zero_speed)\n",
    "tri_a = advect_nodes(tri0, u0, v0, max_dist0)\n",
    "tri_r = remesh(tri_a, fixed_nodes_idx, min_area, min_edge_length, min_edge_angle, max_edge_length)\n",
    "tri_o = optimize_mesh(tri_a, tri_r, fixed_nodes_idx)\n",
    "src2dst, weights = compute_mapping(tri_a, tri_o, search_dist)\n",
    "area_ratio = get_area_ratio(tri0, tri_a, tri_o, src2dst, weights)\n",
    "\n",
    "#print(f'Save mesh file to {mesh_dst_file}')\n",
    "#np.savez(mesh_dst_file, x=x7, y=y7, t=t7, src2dst=src2dst, weights=weights, ar=area_ratio7)\n"
   ]
  },
  {
   "cell_type": "code",
   "execution_count": null,
   "id": "2d40ff43",
   "metadata": {},
   "outputs": [],
   "source": [
    "plt.tripcolor(tri_o, area_ratio, cmap='coolwarm', vmin=0.8, vmax=1.2)"
   ]
  }
 ],
 "metadata": {
  "kernelspec": {
   "display_name": "mesh",
   "language": "python",
   "name": "python3"
  },
  "language_info": {
   "codemirror_mode": {
    "name": "ipython",
    "version": 3
   },
   "file_extension": ".py",
   "mimetype": "text/x-python",
   "name": "python",
   "nbconvert_exporter": "python",
   "pygments_lexer": "ipython3",
   "version": "3.13.2"
  }
 },
 "nbformat": 4,
 "nbformat_minor": 5
}
