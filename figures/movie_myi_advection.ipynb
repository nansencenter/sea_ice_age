{
 "cells": [
  {
   "cell_type": "code",
   "execution_count": null,
   "metadata": {},
   "outputs": [],
   "source": [
    "import os\n",
    "from datetime import datetime, timedelta\n",
    "import numpy as np\n",
    "import matplotlib.pyplot as plt\n",
    "from cmocean import cm\n",
    "from cartopy.crs import LambertAzimuthalEqualArea\n",
    "from cartopy.feature import LAND\n",
    "\n",
    "from multiprocessing import Pool\n",
    "%matplotlib inline"
   ]
  },
  {
   "cell_type": "code",
   "execution_count": 21,
   "metadata": {},
   "outputs": [
    {
     "name": "stdout",
     "output_type": "stream",
     "text": [
      "367\n"
     ]
    }
   ],
   "source": [
    "force = False\n",
    "zoom = False\n",
    "srs_dst = LambertAzimuthalEqualArea(central_longitude=0, central_latitude=90)\n",
    "date_start = datetime(1991, 9, 15)\n",
    "date_end = datetime(1992, 9, 16)\n",
    "\n",
    "sic_files = []\n",
    "msh_files = []\n",
    "titles = []\n",
    "date0 = date_start\n",
    "date1 = date_start\n",
    "while date1 < date_end:\n",
    "    myi_file = f'/data2/Anton/sia/cdr_1991_2023/sic/{date0.strftime(\"%Y\")}/sic_{date0.strftime(\"%Y%m%d\")}_{date1.strftime(\"%Y%m%d\")}.npz'\n",
    "    msh_file = f'/data2/Anton/sia/cdr_1991_2023/mesh/{date1.strftime(\"%Y\")}/mesh_{date1.strftime(\"%Y%m%d\")}.npz'\n",
    "    sic_files.append(myi_file)\n",
    "    msh_files.append(msh_file)\n",
    "    titles.append(f'$C_{{A1}}$ {date0.strftime(\"%Y-%m-%d\")} --> {date1.strftime(\"%Y-%m-%d\")}')\n",
    "    date1 += timedelta(1)\n",
    "\n",
    "frame_counts = list(range(len(sic_files)))\n",
    "print(len(sic_files))"
   ]
  },
  {
   "cell_type": "code",
   "execution_count": 22,
   "metadata": {},
   "outputs": [],
   "source": [
    "def plot_sic(x, y, t, c, title, ofile):\n",
    "    fig = plt.figure(figsize=(4, 5))\n",
    "    ax = fig.add_subplot(1, 1, 1, projection=srs_dst)\n",
    "    ax.add_feature(LAND, facecolor='lightgray', edgecolor='black', zorder=1)\n",
    "    if zoom == False:\n",
    "        tcf = ax.tripcolor(x, y, t, c, cmap=cm.ice, zorder=0, clim=[0, 100])\n",
    "        ax.set_extent([-1700000, 2000000, -2000000, 2200000], crs=srs_dst)\n",
    "    else:\n",
    "        tcf = ax.tripcolor(x, y, t, c, cmap=cm.ice, zorder=0, clim=[0, 100], edgecolor='k')\n",
    "        ax.set_extent([-800000, 800000, -2000000, 0], crs=srs_dst)\n",
    "    plt.title(title, fontsize=12)\n",
    "    plt.tight_layout()\n",
    "    plt.savefig(ofile, dpi=300, bbox_inches='tight', pad_inches=0.1)\n",
    "    plt.close()\n",
    "\n",
    "def load_and_plot(input_data):\n",
    "    frame_counter, sic_file, msh_file, title = input_data\n",
    "    ofile = f'advect_myi_pngs/frame_{frame_counter:04d}.png'\n",
    "    if zoom == True:\n",
    "        ofile = ofile.replace('.png', '_zoom.png')\n",
    "    if os.path.exists(ofile) and not force:\n",
    "        return\n",
    "    c = np.load(sic_file)['c']\n",
    "    with np.load(msh_file) as ds:\n",
    "        x = ds['x']*1000\n",
    "        y = ds['y']*1000\n",
    "        t = ds['t']\n",
    "    plot_sic(x, y, t, c, title, ofile)\n"
   ]
  },
  {
   "cell_type": "code",
   "execution_count": null,
   "metadata": {},
   "outputs": [],
   "source": [
    "zoom = False\n",
    "#with Pool(5) as p:\n",
    "#    p.map(load_and_plot, zip(frame_counts, sic_files, msh_files, titles))"
   ]
  },
  {
   "cell_type": "code",
   "execution_count": 24,
   "metadata": {},
   "outputs": [],
   "source": [
    "zoom  = True\n",
    "force = True\n",
    "with Pool(5) as p:\n",
    "    p.map(load_and_plot, zip(frame_counts, sic_files, msh_files, titles))"
   ]
  },
  {
   "cell_type": "code",
   "execution_count": null,
   "metadata": {},
   "outputs": [],
   "source": [
    "#ffmpeg -y -r 10 -f image2 -i frame_%04d.png -vcodec libx264 -crf 1 -pix_fmt yuv420p advect_myi.mp4"
   ]
  }
 ],
 "metadata": {
  "kernelspec": {
   "display_name": "ice2",
   "language": "python",
   "name": "python3"
  },
  "language_info": {
   "codemirror_mode": {
    "name": "ipython",
    "version": 3
   },
   "file_extension": ".py",
   "mimetype": "text/x-python",
   "name": "python",
   "nbconvert_exporter": "python",
   "pygments_lexer": "ipython3",
   "version": "3.12.8"
  }
 },
 "nbformat": 4,
 "nbformat_minor": 2
}
