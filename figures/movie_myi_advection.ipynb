{
 "cells": [
  {
   "cell_type": "code",
   "execution_count": null,
   "metadata": {},
   "outputs": [],
   "source": [
    "import os\n",
    "from datetime import datetime, timedelta\n",
    "import numpy as np\n",
    "import matplotlib.pyplot as plt\n",
    "from cmocean import cm\n",
    "from cartopy.crs import LambertAzimuthalEqualArea\n",
    "from cartopy.feature import LAND\n",
    "\n",
    "from pathos.multiprocessing import Pool\n",
    "%matplotlib inline"
   ]
  },
  {
   "cell_type": "code",
   "execution_count": null,
   "metadata": {},
   "outputs": [],
   "source": [
    "force = False\n",
    "zoom = False\n",
    "srs_dst = LambertAzimuthalEqualArea(central_longitude=0, central_latitude=90)\n",
    "date_start = datetime(1991, 9, 15)\n",
    "date_end = datetime(1992, 9, 16)\n",
    "\n",
    "sic_files = []\n",
    "msh_files = []\n",
    "titles = []\n",
    "date0 = date_start\n",
    "date1 = date_start\n",
    "while date1 < date_end:\n",
    "    myi_file = f'../NERSC_arctic25km_sea_ice_age_v2p1/sic/{date0.strftime(\"%Y\")}/sic_{date0.strftime(\"%Y%m%d\")}_{date1.strftime(\"%Y%m%d\")}.npz'\n",
    "    msh_file = f'../NERSC_arctic25km_sea_ice_age_v2p1/mesh/{date1.strftime(\"%Y\")}/mesh_{date1.strftime(\"%Y%m%d\")}.npz'\n",
    "    sic_files.append(myi_file)\n",
    "    msh_files.append(msh_file)\n",
    "    titles.append(f'$C_{{A1}}$ {date0.strftime(\"%Y-%m-%d\")} --> {date1.strftime(\"%Y-%m-%d\")}')\n",
    "    date1 += timedelta(1)\n",
    "\n",
    "frame_counts = list(range(len(sic_files)))\n",
    "print(len(sic_files))"
   ]
  },
  {
   "cell_type": "code",
   "execution_count": null,
   "metadata": {},
   "outputs": [],
   "source": [
    "class LoadAndPlot:\n",
    "    def __init__(self, zoom=False, force=False):\n",
    "        self.zoom = zoom\n",
    "        self.force = force\n",
    "\n",
    "    def plot_sic(self, x, y, t, c, title, ofile):\n",
    "        fig = plt.figure(figsize=(4, 5))\n",
    "        ax = fig.add_subplot(1, 1, 1, projection=srs_dst)\n",
    "        ax.add_feature(LAND, facecolor='lightgray', edgecolor='black', zorder=1)\n",
    "        if zoom == False:\n",
    "            tcf = ax.tripcolor(x, y, t, c, cmap=cm.ice, zorder=0, clim=[0, 100])\n",
    "            ax.set_extent([-1700000, 2000000, -2000000, 2200000], crs=srs_dst)\n",
    "        else:\n",
    "            tcf = ax.tripcolor(x, y, t, c, cmap=cm.ice, zorder=0, clim=[0, 100], edgecolor='k')\n",
    "            ax.set_extent([-800000, 800000, -2000000, 0], crs=srs_dst)\n",
    "        plt.title(title, fontsize=12)\n",
    "        plt.tight_layout()\n",
    "        plt.savefig(ofile, dpi=300, bbox_inches='tight', pad_inches=0.1)\n",
    "        plt.close()\n",
    "\n",
    "    def __call__(self, input_data):\n",
    "        frame_counter, sic_file, msh_file, title = input_data\n",
    "        ofile = f'advect_myi_pngs/frame_{frame_counter:04d}.png'\n",
    "        if self.zoom == True:\n",
    "            ofile = ofile.replace('.png', '_zoom.png')\n",
    "        if os.path.exists(ofile) and not self.force:\n",
    "            return\n",
    "        c = np.load(sic_file)['c']\n",
    "        with np.load(msh_file) as ds:\n",
    "            x = ds['x']*1000\n",
    "            y = ds['y']*1000\n",
    "            t = ds['t']\n",
    "        self.plot_sic(x, y, t, c, title, ofile)\n"
   ]
  },
  {
   "cell_type": "code",
   "execution_count": null,
   "metadata": {},
   "outputs": [],
   "source": [
    "#zoom = False\n",
    "#with Pool(5) as p:\n",
    "#    p.map(load_and_plot, zip(frame_counts, sic_files, msh_files, titles))"
   ]
  },
  {
   "cell_type": "code",
   "execution_count": null,
   "metadata": {},
   "outputs": [],
   "source": [
    "load_and_plot = LoadAndPlot(zoom=True, force=True)\n",
    "with Pool(5) as p:\n",
    "    p.map(load_and_plot, zip(frame_counts, sic_files, msh_files, titles))"
   ]
  },
  {
   "cell_type": "code",
   "execution_count": null,
   "metadata": {},
   "outputs": [],
   "source": [
    "import glob\n",
    "from PIL import Image\n",
    "\n",
    "# Get all PNG files in order\n",
    "png_files = sorted(glob.glob('advect_myi_pngs/frame_????_zoom.png'))\n",
    "\n",
    "# Load images\n",
    "images = [Image.open(f) for f in png_files]\n",
    "\n",
    "# Save as animated GIF\n",
    "images[0].save('advect_myi_pngs/advect_myi_zoom.gif', save_all=True, append_images=images[1:], duration=100, loop=0)"
   ]
  }
 ],
 "metadata": {
  "kernelspec": {
   "display_name": "ice",
   "language": "python",
   "name": "python3"
  },
  "language_info": {
   "codemirror_mode": {
    "name": "ipython",
    "version": 3
   },
   "file_extension": ".py",
   "mimetype": "text/x-python",
   "name": "python",
   "nbconvert_exporter": "python",
   "pygments_lexer": "ipython3",
   "version": "3.13.3"
  }
 },
 "nbformat": 4,
 "nbformat_minor": 2
}
