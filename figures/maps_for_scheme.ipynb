{
 "cells": [
  {
   "cell_type": "code",
   "execution_count": null,
   "metadata": {},
   "outputs": [],
   "source": [
    "import os\n",
    "\n",
    "import numpy as np\n",
    "import matplotlib.pyplot as plt\n",
    "from cmocean import cm\n",
    "from cartopy.crs import LambertAzimuthalEqualArea, PlateCarree\n",
    "from cartopy.feature import LAND\n",
    "\n",
    "%matplotlib inline"
   ]
  },
  {
   "cell_type": "code",
   "execution_count": null,
   "metadata": {},
   "outputs": [],
   "source": [
    "date0 = '19910915'\n",
    "date1 = '19920101'\n",
    "date2 = '19920915'\n",
    "\n",
    "\n",
    "myi_file0 = f'../data2/Anton/sia/cdr_1991_2023/sic/1991/sic_{date0}_{date0}.npz'\n",
    "sic_file1 = f'../data2/Anton/sia/cdr_1991_2023/sic/1992/sic_{date1}.npz'\n",
    "myi_file2 = f'../data2/Anton/sia/cdr_1991_2023/sic/1992/sic_{date2}_{date2}.npz'\n",
    "\n",
    "ca0_file1 = f'../data2/Anton/sia/cdr_1991_2023/sic/1991/sic_{date0}_{date1}.npz'\n",
    "ca1_file2 = f'../data2/Anton/sia/cdr_1991_2023/sic/1991/sic_{date0}_{date2}.npz'\n",
    "\n",
    "msh_file0 = f'../data2/Anton/sia/cdr_1991_2023/mesh/1991/mesh_{date0}.npz'\n",
    "msh_file1 = f'../data2/Anton/sia/cdr_1991_2023/mesh/1992/mesh_{date1}.npz'\n",
    "msh_file2 = f'../data2/Anton/sia/cdr_1991_2023/mesh/1992/mesh_{date2}.npz'\n",
    "\n",
    "sic_files = [myi_file0, ca0_file1, sic_file1, ca1_file2, myi_file2]\n",
    "msh_files = [msh_file0, msh_file1, msh_file1, msh_file2, msh_file2]\n",
    "titles = ['$C_{MYI}$ 1991-09-15', '$C_{Ao}$ 1992-01-01', '$C_{TOT}$ 1992-01-01', '$C_{A1}$ 1992-09-15', '$C_{MYI}$ 1992-09-15']\n",
    "\n",
    "srs_dst = LambertAzimuthalEqualArea(central_longitude=0, central_latitude=90)"
   ]
  },
  {
   "cell_type": "code",
   "execution_count": null,
   "metadata": {},
   "outputs": [],
   "source": [
    "def plot_sic(x, y, t, c, title, ofile, cmap=cm.ice):\n",
    "    fig = plt.figure(figsize=(4, 5))\n",
    "    ax = fig.add_subplot(1, 1, 1, projection=srs_dst)\n",
    "    tcf = ax.tripcolor(x, y, t, c, cmap=cmap, zorder=0, clim=[0, 100])\n",
    "    ax.add_feature(LAND, facecolor='lightgray', edgecolor='black', zorder=1)\n",
    "    ax.set_extent([-1700000, 2000000, -2000000, 2200000], crs=srs_dst)\n",
    "    plt.title(title, fontsize=26)\n",
    "    plt.tight_layout()\n",
    "    plt.savefig(ofile, dpi=300, bbox_inches='tight', pad_inches=0.1)\n",
    "    plt.close()\n",
    "    print(ofile)\n",
    "\n",
    "for sic_file, msh_file, title in zip(sic_files, msh_files, titles):\n",
    "    c = np.load(sic_file)['c']\n",
    "    with np.load(msh_file) as ds:\n",
    "        x = ds['x']*1000\n",
    "        y = ds['y']*1000\n",
    "        t = ds['t']\n",
    "    ofile = os.path.basename(sic_file).replace('.npz', '.png')\n",
    "    plot_sic(x, y, t, c, title, ofile)\n"
   ]
  },
  {
   "cell_type": "code",
   "execution_count": null,
   "metadata": {},
   "outputs": [],
   "source": [
    "c_tot = np.load(sic_file1)['c']\n",
    "c_ca0 = np.load(ca0_file1)['c']\n",
    "c_1iy = c_tot - c_ca0\n",
    "with np.load(msh_file1) as ds:\n",
    "    x = ds['x']*1000\n",
    "    y = ds['y']*1000\n",
    "    t = ds['t']\n",
    "plot_sic(x, y, t, c_1iy, '$C_{1Y}$ 1992-01-01', f'sic_1yi_{date1}.png', 'viridis')"
   ]
  },
  {
   "cell_type": "code",
   "execution_count": null,
   "metadata": {},
   "outputs": [],
   "source": [
    "c_myi = np.load(myi_file2)['c']\n",
    "c_ca1 = np.load(ca1_file2)['c']\n",
    "\n",
    "c_2iy = c_myi - c_ca1\n",
    "with np.load(msh_file2) as ds:\n",
    "    x = ds['x']*1000\n",
    "    y = ds['y']*1000\n",
    "    t = ds['t']\n",
    "\n",
    "plot_sic(x, y, t, c_2iy, '$C_{2Y}$ 1992-09-15', f'sic_2yi_{date2}.png', 'viridis')\n"
   ]
  },
  {
   "cell_type": "code",
   "execution_count": null,
   "metadata": {},
   "outputs": [],
   "source": [
    "lon, lat = PlateCarree().transform_points(srs_dst, x, y).T[:2]\n",
    "plt.plot(lon, lat, 'k.', markersize=1)"
   ]
  },
  {
   "cell_type": "code",
   "execution_count": null,
   "metadata": {},
   "outputs": [],
   "source": []
  }
 ],
 "metadata": {
  "kernelspec": {
   "display_name": "ice",
   "language": "python",
   "name": "python3"
  },
  "language_info": {
   "codemirror_mode": {
    "name": "ipython",
    "version": 3
   },
   "file_extension": ".py",
   "mimetype": "text/x-python",
   "name": "python",
   "nbconvert_exporter": "python",
   "pygments_lexer": "ipython3",
   "version": "3.13.3"
  }
 },
 "nbformat": 4,
 "nbformat_minor": 2
}
