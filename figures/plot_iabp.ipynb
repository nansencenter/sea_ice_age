{
 "cells": [
  {
   "cell_type": "code",
   "execution_count": null,
   "id": "92613066",
   "metadata": {},
   "outputs": [],
   "source": [
    "import os\n",
    "import glob\n",
    "\n",
    "import pandas as pd\n",
    "import numpy as np\n",
    "import matplotlib.pyplot as plt\n",
    "import xarray as xa\n",
    "from cartopy.crs import PlateCarree, LambertAzimuthalEqualArea\n",
    "from cartopy.feature import LAND"
   ]
  },
  {
   "cell_type": "code",
   "execution_count": null,
   "id": "e310751f",
   "metadata": {},
   "outputs": [],
   "source": [
    "laea = LambertAzimuthalEqualArea(central_latitude=90, central_longitude=0)\n",
    "pc = PlateCarree()\n",
    "buoys = pd.read_feather('../iabp_validation/data/segments.feather').dropna()\n"
   ]
  },
  {
   "cell_type": "code",
   "execution_count": null,
   "id": "ee6f6758",
   "metadata": {},
   "outputs": [],
   "source": [
    "x, y = laea.transform_points(pc, buoys['Lon'].values, buoys['Lat'].values).T[:2]"
   ]
  },
  {
   "cell_type": "code",
   "execution_count": null,
   "id": "48db0574",
   "metadata": {},
   "outputs": [],
   "source": [
    "minx, maxx = -2.1e6, 2e6\n",
    "miny, maxy = -2.4e6, 3e6\n",
    "res = 25000\n",
    "width = int((maxx - minx) / res)\n",
    "height = int((maxy - miny) / res)\n",
    "col = np.clip(((x - minx) / res).astype(int), 0, width - 1)\n",
    "row = np.clip(((y - miny) / res).astype(int), 0, height - 1)\n",
    "# create absolute index from col and row\n",
    "abs_index = row * width + col\n",
    "count_matrix = np.zeros((height, width))\n",
    "mean_matrix = np.zeros((height, width))\n",
    "np.add.at(count_matrix, (row, col), 1)\n",
    "np.add.at(mean_matrix, (row, col), buoys.Age)\n",
    "count_matrix[count_matrix < 1] = np.nan\n",
    "mean_matrix = mean_matrix / count_matrix / 365\n",
    "\n",
    "fig, axs = plt.subplots(1, 2, figsize=(10,7),subplot_kw={'projection': laea})\n",
    "imsh0 = axs[0].imshow(count_matrix, cmap='viridis', clim=[0, 200], extent=[minx, maxx, miny, maxy], origin='lower', interpolation='nearest')\n",
    "plt.colorbar(imsh0, ax=axs[0], orientation='vertical', pad=0.05, shrink=0.5)\n",
    "imsh1 = axs[1].imshow(mean_matrix, cmap='viridis', clim=[0, 2], extent=[minx, maxx, miny, maxy], origin='lower', interpolation='nearest')\n",
    "plt.colorbar(imsh1, ax=axs[1], orientation='vertical', pad=0.05, shrink=0.5)\n",
    "axs[0].coastlines()\n",
    "axs[0].add_feature(LAND, zorder=10)\n",
    "axs[1].coastlines()\n",
    "axs[1].add_feature(LAND, zorder=10)\n",
    "\n",
    "axs[0].set_title('Num. IABP observations')\n",
    "axs[1].set_title('Mean IABP buoy age, years')\n",
    "plt.tight_layout()\n",
    "plt.savefig('figure01_iabp_buoys.png', bbox_inches='tight', dpi=100, pad_inches=0.1)\n",
    "plt.show()\n"
   ]
  },
  {
   "cell_type": "code",
   "execution_count": null,
   "id": "797d677d",
   "metadata": {},
   "outputs": [],
   "source": []
  }
 ],
 "metadata": {
  "kernelspec": {
   "display_name": "ice",
   "language": "python",
   "name": "python3"
  },
  "language_info": {
   "codemirror_mode": {
    "name": "ipython",
    "version": 3
   },
   "file_extension": ".py",
   "mimetype": "text/x-python",
   "name": "python",
   "nbconvert_exporter": "python",
   "pygments_lexer": "ipython3",
   "version": "3.13.3"
  }
 },
 "nbformat": 4,
 "nbformat_minor": 5
}
