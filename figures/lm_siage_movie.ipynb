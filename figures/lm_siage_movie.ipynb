{
 "cells": [
  {
   "cell_type": "code",
   "execution_count": null,
   "id": "9d767d19",
   "metadata": {},
   "outputs": [],
   "source": [
    "import os\n",
    "import glob\n",
    "import gc\n",
    "import subprocess\n",
    "import datetime as dt\n",
    "\n",
    "from netCDF4 import Dataset\n",
    "import numpy as np\n",
    "import matplotlib.pyplot as plt\n",
    "import tqdm\n",
    "from matplotlib.patches import Patch\n",
    "\n",
    "import cmocean as cm\n",
    "import cartopy.crs as ccrs\n",
    "import cartopy.feature as cfeature\n",
    "from pathos.multiprocessing import Pool\n",
    "\n",
    "from scipy.ndimage import zoom, distance_transform_edt, generic_filter, median_filter, gaussian_filter\n",
    "\n",
    "%matplotlib inline"
   ]
  },
  {
   "cell_type": "code",
   "execution_count": null,
   "id": "7d47d3c6",
   "metadata": {},
   "outputs": [],
   "source": [
    "src_crs = ccrs.LambertAzimuthalEqualArea(central_longitude=0, central_latitude=90)\n",
    "mesh_init_file = '../mesh_arctic_ease_25km_max7.npz'\n",
    "mask = np.load(mesh_init_file)['mask']\n",
    "xc = np.load(mesh_init_file)['xc']\n",
    "yc = np.load(mesh_init_file)['yc'][::-1]"
   ]
  },
  {
   "cell_type": "code",
   "execution_count": null,
   "id": "8de8048a",
   "metadata": {},
   "outputs": [],
   "source": [
    "figsize = (10,10)\n",
    "dpi = 100\n",
    "dst_dir = './'\n",
    "\n",
    "xlim = 3500000\n",
    "ylim = 3500000\n",
    "plt_csr = ccrs.LambertAzimuthalEqualArea(central_longitude=0, central_latitude=90)\n",
    "\n",
    "prefix = 'ice_age'\n",
    "src_dir = '../NERSC_arctic25km_sea_ice_age_v2p1'\n",
    "src_files = sorted(glob.glob(f'{src_dir}/nc/*/*nc'))[::5]\n",
    "print(len(src_files), src_files[0], src_files[-1])\n",
    "\n",
    "clim = [0, 4]\n",
    "cmap = 'plasma'\n",
    "var_name = 'age'\n",
    "def get_date(i, src_file):\n",
    "    return src_file.split('.')[-2].split('_')[-1]\n",
    "\n",
    "def get_lmsia_data(ifile, get_land=False):\n",
    "    with Dataset(ifile) as ds:\n",
    "        sia = ds.variables['sea_ice_age'][0]\n",
    "        if get_land:\n",
    "            status_flag = ds.variables['status_flag'][0]\n",
    "    if get_land:\n",
    "        land = np.where(status_flag == 2, 1, np.nan)\n",
    "    else:\n",
    "        land = None\n",
    "    return sia, land\n",
    "\n",
    "ifile = '../NERSC_arctic25km_sea_ice_age_v2p1/nc/2020/arctic25km_sea_ice_age_v2p1_20200101.nc'\n",
    "sia, land = get_lmsia_data(ifile, True)\n",
    "\n",
    "extent = np.array([xc.min(), xc.max(), yc.min(), yc.max()])*1000\n",
    "\n",
    "logo_img = plt.imread('NERSC_LOGO_English-text.png')[:4450]\n",
    "logo_img_white = logo_img.copy()[::5, ::5]\n",
    "logo_img_white[logo_img_white[:,:,3] <1] = 1"
   ]
  },
  {
   "cell_type": "code",
   "execution_count": null,
   "id": "86b43b4f",
   "metadata": {},
   "outputs": [],
   "source": [
    "#for i_src_file in enumerate(src_files):\n",
    "def plot_ice(i_src_file):\n",
    "    i, src_file = i_src_file\n",
    "    dst_png_file = f'{dst_dir}/frm_{prefix}_{i:04}.png'\n",
    "    datestr = get_date(i, src_file)\n",
    "    month = datestr[4:6]\n",
    "    sia, _ = get_lmsia_data(src_file)\n",
    "    #sia[np.isnan(sia)] = 0\n",
    "    watermask = np.where(sia == 0, 1, np.nan)\n",
    "\n",
    "    fig = plt.figure(figsize=figsize)\n",
    "    ax = plt.axes((0,0,1,1), projection=plt_csr)\n",
    "    imsh = ax.imshow(sia, extent=extent, clim=clim, cmap=cmap, zorder=1, interpolation='nearest')\n",
    "    ax.imshow(watermask, extent=extent, clim=[0,1], cmap='gray_r', zorder=2, interpolation='nearest')\n",
    "    ax.imshow(land, extent=extent, clim=[0, 2], cmap='gray', zorder=3, interpolation='nearest')\n",
    "    ax.add_feature(cfeature.LAND, edgecolor='k', facecolor='none', zorder=3)\n",
    "    ax.set_xlim((-2000000, 2200000))\n",
    "    ax.set_ylim((-2400000, 2700000))\n",
    "    \n",
    "    ax.imshow(logo_img_white, extent=[-2000000, -1700000, 2400000, 2700000], zorder=4)#, interpolation='nearest')\n",
    "    \n",
    "    plt.text(-1800000, 2100000, f'{datestr[:4]}-{datestr[4:6]}-{datestr[6:]}', zorder=10, fontsize=16, color='k')\n",
    "    ax1 = plt.axes((0.55,0.97,0.35,0.02))\n",
    "    plt.colorbar(imsh, cax=ax1, orientation='horizontal', label='Average sea ice age, years', pad=0.05)\n",
    "    legend_elements = [\n",
    "        Patch(facecolor='black', edgecolor='black', label='water'),\n",
    "        Patch(facecolor='white', edgecolor='black', label='no data')\n",
    "    ]\n",
    "    ax.legend(handles=legend_elements, loc='lower center', bbox_to_anchor=(0.9, 0.85), fontsize=12, frameon=False)\n",
    "    plt.savefig(dst_png_file, bbox_inches='tight', pad_inches=0.05, facecolor='#000', dpi=dpi)\n",
    "    #plt.show()\n",
    "    plt.close('all')\n",
    "    plt.close()\n",
    "    gc.collect()\n",
    "    \n",
    " "
   ]
  },
  {
   "cell_type": "code",
   "execution_count": null,
   "id": "575d26c6",
   "metadata": {},
   "outputs": [],
   "source": [
    "with Pool() as pool:\n",
    "    for _ in tqdm.tqdm(pool.imap(plot_ice, enumerate(src_files)), total=len(src_files)):\n",
    "        pass"
   ]
  },
  {
   "cell_type": "code",
   "execution_count": null,
   "id": "19b69019",
   "metadata": {},
   "outputs": [],
   "source": [
    "!ffmpeg -y -r 15 -f image2 -i frm_ice_age_%04d.png -vcodec libx264 -vf 'crop=trunc(iw/2)*2:trunc(ih/2)*2:0:0' -pix_fmt yuv420p lm_ice_age.mp4\n"
   ]
  },
  {
   "cell_type": "code",
   "execution_count": null,
   "id": "15b2524b",
   "metadata": {},
   "outputs": [],
   "source": []
  }
 ],
 "metadata": {
  "kernelspec": {
   "display_name": "ice",
   "language": "python",
   "name": "python3"
  },
  "language_info": {
   "codemirror_mode": {
    "name": "ipython",
    "version": 3
   },
   "file_extension": ".py",
   "mimetype": "text/x-python",
   "name": "python",
   "nbconvert_exporter": "python",
   "pygments_lexer": "ipython3",
   "version": "3.13.3"
  }
 },
 "nbformat": 4,
 "nbformat_minor": 5
}
