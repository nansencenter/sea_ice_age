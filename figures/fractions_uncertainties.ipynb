{
 "cells": [
  {
   "cell_type": "code",
   "execution_count": null,
   "id": "8276aa45",
   "metadata": {},
   "outputs": [],
   "source": [
    "import os\n",
    "import glob\n",
    "from datetime import datetime\n",
    "from multiprocessing import Pool\n",
    "\n",
    "from matplotlib import gridspec\n",
    "import matplotlib.pyplot as plt\n",
    "from cmocean import cm\n",
    "\n",
    "from cartopy.crs import LambertAzimuthalEqualArea\n",
    "from cartopy.feature import LAND\n",
    "\n",
    "from uncertainty import ComputeTotUncertainty\n",
    "\n",
    "srs_dst = LambertAzimuthalEqualArea(central_longitude=0, central_latitude=90)\n",
    "%matplotlib inline"
   ]
  },
  {
   "cell_type": "code",
   "execution_count": null,
   "id": "f30ec788",
   "metadata": {},
   "outputs": [],
   "source": [
    "sid_dir = '../OSISAF_ice_drift_CDR_postproc'\n",
    "sia_dir = '../NERSC_arctic25km_sea_ice_age_v2p1'\n",
    "mesh_dir = f'{sia_dir}/mesh'\n",
    "unc_dir = f'{sia_dir}/unc'\n",
    "age_dir = f'{sia_dir}/age'\n",
    "mesh_init_file = '../mesh_arctic_ease_25km_max7.npz'"
   ]
  },
  {
   "cell_type": "code",
   "execution_count": null,
   "id": "13eeb598",
   "metadata": {},
   "outputs": [],
   "source": [
    "idate = datetime(1995, 12, 30)\n",
    "oyear = '1995'\n",
    "idate = datetime(2024, 12, 30)\n",
    "oyear = '2024'\n",
    "\n",
    "comp = ComputeTotUncertainty(mesh_dir, unc_dir, sid_dir, age_dir, mesh_init_file)\n",
    "a, c, f, x, y, t = comp.load_age(idate)\n",
    "unc_obs, len_f = comp.load_unc_obs(idate)\n",
    "unc_myi = comp.load_unc_myi(idate)\n",
    "unc_sid = comp.load_unc_sid(idate, unc_obs)\n",
    "unc_sic_sid = comp.load_unc_sidsic(idate, unc_obs)\n",
    "unc_frac = comp.compute_unc_frac(unc_obs, unc_myi, len_f)\n",
    "unc_tot, unc_age = comp.compute_unc_tot(unc_frac, unc_sic_sid)\n"
   ]
  },
  {
   "cell_type": "code",
   "execution_count": null,
   "id": "31bca149",
   "metadata": {},
   "outputs": [],
   "source": [
    "fig = plt.figure(figsize=(14, 20))\n",
    "gs = gridspec.GridSpec(7, 5, height_ratios=[20, 20, 20, 20, 20, 20, 3])\n",
    "\n",
    "clims = [\n",
    "    [0, 100],  # SIA fraction\n",
    "    [0, 10],   # SIC Uncertainty\n",
    "    [0, 300],  # Drift Uncertainty\n",
    "    [0, 25],   # SID Uncertainty\n",
    "    [0, 25]    # Total Uncertainty\n",
    "]\n",
    "\n",
    "cmaps = [\n",
    "    cm.ice,      # SIA fraction\n",
    "    'viridis',   # SIC Uncertainty\n",
    "    'plasma',    # Drift Uncertainty\n",
    "    'inferno',   # SID Uncertainty\n",
    "    'magma'      # Total Uncertainty\n",
    "]\n",
    "\n",
    "cbar_labels = [\n",
    "    'SIA fraction, %',\n",
    "    'SIC Uncertainty, %',\n",
    "    'Drift Uncertainty, km',\n",
    "    'SID Uncertainty, %',\n",
    "    'Total Uncertainty, %'\n",
    "]\n",
    "\n",
    "for row in range(6):\n",
    "    arrays = [f[::-1][row], unc_frac[row], unc_sid[row], unc_sic_sid[row], unc_tot[row]]\n",
    "    axs = []\n",
    "    trps = []\n",
    "    for col in range(5):\n",
    "        ax = fig.add_subplot(gs[row, col], projection=srs_dst)\n",
    "        trp = ax.tripcolor(x*1000, y*1000, t, arrays[col], clim=clims[col], cmap=cmaps[col])\n",
    "        axs.append(ax)\n",
    "        trps.append(trp)\n",
    "    \n",
    "    for ax in axs:\n",
    "        ax.add_feature(LAND, facecolor='lightgray', edgecolor='black', zorder=1)\n",
    "        ax.set_xlim([-1800000, 2000000])\n",
    "        ax.set_ylim([-2300000, 2200000])\n",
    "    axs[0].text(-1400000, -1400000, f'{row+1}YI', fontsize=14, zorder=2)\n",
    "\n",
    "for col in range(5):\n",
    "    ax_cbar = fig.add_subplot(gs[6, col])\n",
    "    ax_cbar.set_visible(False)\n",
    "    cbar0 = fig.colorbar(trps[col], ax=ax_cbar, orientation='horizontal', fraction=0.8, shrink=0.7)\n",
    "    cbar0.set_label(cbar_labels[col])\n",
    "\n",
    "plt.subplots_adjust(hspace=0, wspace=0.05)\n",
    "plt.savefig(f'figure08_uncertainty_maps_{oyear}.png', bbox_inches='tight', dpi=150, pad_inches=0.1)\n",
    "plt.show()\n",
    "\n"
   ]
  },
  {
   "cell_type": "code",
   "execution_count": null,
   "id": "51f3963c",
   "metadata": {},
   "outputs": [],
   "source": []
  }
 ],
 "metadata": {
  "kernelspec": {
   "display_name": "ice",
   "language": "python",
   "name": "python3"
  },
  "language_info": {
   "codemirror_mode": {
    "name": "ipython",
    "version": 3
   },
   "file_extension": ".py",
   "mimetype": "text/x-python",
   "name": "python",
   "nbconvert_exporter": "python",
   "pygments_lexer": "ipython3",
   "version": "3.13.3"
  }
 },
 "nbformat": 4,
 "nbformat_minor": 5
}
