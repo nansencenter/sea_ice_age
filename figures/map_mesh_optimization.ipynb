{
 "cells": [
  {
   "cell_type": "code",
   "execution_count": null,
   "metadata": {},
   "outputs": [],
   "source": [
    "import os\n",
    "\n",
    "import numpy as np\n",
    "import matplotlib.pyplot as plt\n",
    "from cmocean import cm\n",
    "from cartopy.crs import LambertAzimuthalEqualArea\n",
    "from cartopy.feature import LAND\n",
    "from matplotlib.tri import Triangulation\n",
    "from scipy.ndimage import gaussian_filter\n",
    "from scipy.interpolate import RectBivariateSpline\n",
    "from scipy.spatial import KDTree\n",
    "\n",
    "import sys\n",
    "sys.path.insert(0, '../')\n",
    "from utils import remesh, optimize_mesh, make_polygon_shapely\n",
    "from remeshing import get_same_elements\n",
    "\n",
    "%matplotlib inline"
   ]
  },
  {
   "cell_type": "code",
   "execution_count": null,
   "metadata": {},
   "outputs": [],
   "source": [
    "ifile = '../mesh_arctic_ease_25km_max7.npz'\n",
    "srs_dst = LambertAzimuthalEqualArea(central_longitude=0, central_latitude=90)"
   ]
  },
  {
   "cell_type": "code",
   "execution_count": null,
   "metadata": {},
   "outputs": [],
   "source": [
    "with np.load(ifile) as ds:\n",
    "    x0 = ds['x']\n",
    "    y0 = ds['y']\n",
    "    t0 = ds['t']\n",
    "    xc = ds['xc']\n",
    "    yc = ds['yc']\n",
    "    mask = ds['mask']"
   ]
  },
  {
   "cell_type": "code",
   "execution_count": null,
   "metadata": {},
   "outputs": [],
   "source": [
    "m = gaussian_filter(mask.astype(float), 1, truncate=1)\n",
    "max_mask_fix_node=0.15\n",
    "max_mask_zero_speed=0.6\n",
    "mask = RectBivariateSpline(xc, yc, m[::-1], kx=1, ky=1)(y0, x0, grid=False)\n",
    "fixed_nodes_idx = np.nonzero(mask < max_mask_fix_node)[0]\n",
    "zero_speed = np.nonzero(mask < max_mask_zero_speed)[0]"
   ]
  },
  {
   "cell_type": "code",
   "execution_count": null,
   "metadata": {},
   "outputs": [],
   "source": [
    "force = False\n",
    "min_edge_length = 13\n",
    "max_edge_length = 38\n",
    "min_edge_angle = 15\n",
    "min_triangles = 5\n",
    "search_dist = 50\n",
    "max_dist0 = 50\n",
    "min_area = 20\n",
    "max_mask_fix_node=0.15\n",
    "max_mask_zero_speed=0.6\n",
    "\n",
    "\n",
    "u = 11\n",
    "v = 13\n",
    "x1 = np.array(x0)\n",
    "y1 = np.array(y0)\n",
    "block_mask = (x1 > 0) & (y1 < 0) & (x1 < 200) & (y1 > -200)\n",
    "x1[block_mask] = x1[block_mask] + u\n",
    "y1[block_mask] = y1[block_mask] + v\n",
    "\n",
    "u0 = x1 - x0\n",
    "v0 = y1 - y0\n",
    "\n",
    "tri1 = Triangulation(x1, y1, t0)\n",
    "tri2 = remesh(tri1, fixed_nodes_idx, min_area, min_edge_length, min_edge_angle, max_edge_length, verbose=True)\n",
    "tri3 = optimize_mesh(tri1, tri2, fixed_nodes_idx)\n"
   ]
  },
  {
   "cell_type": "code",
   "execution_count": null,
   "metadata": {},
   "outputs": [],
   "source": [
    "fig, axs = plt.subplots(1, 3, figsize=(12, 4))\n",
    "tcf = axs[0].triplot(x0, y0, t0, 'r-', lw=0.8, alpha=0.8)\n",
    "tcf = axs[0].triplot(x1, y1, t0, 'k-', lw=0.4)\n",
    "axs[0].quiver(x0, y0, u0, v0, scale=1, scale_units='xy', angles='xy', color='b', width=0.005)\n",
    "\n",
    "tcf = axs[1].triplot(x1, y1, t0, 'r-', lw=0.8, alpha=0.8)\n",
    "tcf = axs[1].triplot(tri2, 'k-', lw=0.4)\n",
    "\n",
    "tcf = axs[2].triplot(tri2, 'r-', lw=0.8, alpha=0.8)\n",
    "tcf = axs[2].triplot(tri3, 'k-', lw=0.4)\n",
    "\n",
    "for ax in axs:\n",
    "    ax.set_xlim([-70, 150])\n",
    "    ax.set_ylim([-150, 70])\n",
    "\n",
    "axs[0].set_title('Advection')\n",
    "axs[1].set_title('Remeshing')\n",
    "axs[2].set_title('Optimization')\n",
    "plt.savefig('figure06_optimization.png', dpi=200, bbox_inches='tight', pad_inches=0.1)\n"
   ]
  },
  {
   "cell_type": "code",
   "execution_count": null,
   "metadata": {},
   "outputs": [],
   "source": [
    "tri_a, tri_o = tri1, tri3\n",
    "xa, ya, ta = tri_a.x, tri_a.y, tri_a.triangles\n",
    "xo, yo, to = tri_o.x, tri_o.y, tri_o.triangles\n",
    "same_in_a, same_in_o = get_same_elements(xa[ta], xo[to])\n",
    "new_elems = np.ones(tri_o.triangles.shape[0], dtype=bool)\n",
    "new_elems[same_in_o] = False\n",
    "new_elem_idx = np.nonzero(new_elems)[0]\n",
    "\n",
    "src2dst = np.column_stack([same_in_a, same_in_o]).tolist()\n",
    "weights = [1] * len(src2dst)\n",
    "elem_xa = xa[ta].mean(axis=1)\n",
    "elem_ya = ya[ta].mean(axis=1)\n",
    "treea = KDTree(np.column_stack([elem_xa, elem_ya]))\n"
   ]
  },
  {
   "cell_type": "code",
   "execution_count": null,
   "metadata": {},
   "outputs": [],
   "source": [
    "new_elem_idx.size"
   ]
  },
  {
   "cell_type": "code",
   "execution_count": null,
   "metadata": {},
   "outputs": [],
   "source": [
    "good_i = [3560]\n",
    "for i in good_i:\n",
    "    polygons = []\n",
    "    inter_polygons = []\n",
    "    src2dst = []\n",
    "    weights = []\n",
    "    x = xo[to[i]].mean()\n",
    "    y = yo[to[i]].mean()\n",
    "    near_elems_1 = treea.query_ball_point([x, y], search_dist)\n",
    "    po = make_polygon_shapely(xo[to[i]], yo[to[i]])\n",
    "    for j in near_elems_1:\n",
    "        pa = make_polygon_shapely(xa[ta[j]], ya[ta[j]])\n",
    "        p_int = po.intersection(pa)\n",
    "        if p_int.area > 0:\n",
    "            src2dst.append((j, i))\n",
    "            weights.append(p_int.area / po.area)\n",
    "            polygons.append(pa)\n",
    "            inter_polygons.append(p_int)\n",
    "    plot_margin = 30\n",
    "    xlim = [x - plot_margin, x + plot_margin]\n",
    "    ylim = [y - plot_margin, y + plot_margin]\n",
    "    print(i)\n",
    "    plt.figure(figsize=(5, 5))\n",
    "    plt.triplot(xa, ya, ta, 'r-', lw=0.4, alpha=0.8)\n",
    "    plt.triplot(xo, yo, to, 'k-', lw=1)\n",
    "    for inter_polygon in inter_polygons:\n",
    "        #plt.plot(*inter_polygon.exterior.xy, lw=1)\n",
    "        l = plt.plot(*inter_polygon.exterior.xy, lw=0)\n",
    "        plt.fill(*inter_polygon.exterior.xy, alpha=0.3, color=l[0].get_color(), label='Highlighted region')\n",
    "\n",
    "    plt.axis('equal')\n",
    "    plt.xlim(xlim)\n",
    "    plt.ylim(ylim)\n",
    "    plt.savefig(f'figure07_intersection_{i}.png', dpi=200, bbox_inches='tight', pad_inches=0.1)\n",
    "    plt.show()\n"
   ]
  },
  {
   "cell_type": "code",
   "execution_count": null,
   "metadata": {},
   "outputs": [],
   "source": []
  }
 ],
 "metadata": {
  "kernelspec": {
   "display_name": "ice",
   "language": "python",
   "name": "python3"
  },
  "language_info": {
   "codemirror_mode": {
    "name": "ipython",
    "version": 3
   },
   "file_extension": ".py",
   "mimetype": "text/x-python",
   "name": "python",
   "nbconvert_exporter": "python",
   "pygments_lexer": "ipython3",
   "version": "3.13.3"
  }
 },
 "nbformat": 4,
 "nbformat_minor": 2
}
