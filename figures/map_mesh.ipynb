{
 "cells": [
  {
   "cell_type": "code",
   "execution_count": null,
   "metadata": {},
   "outputs": [],
   "source": [
    "import os\n",
    "\n",
    "import numpy as np\n",
    "import matplotlib.pyplot as plt\n",
    "from cmocean import cm\n",
    "from cartopy.crs import LambertAzimuthalEqualArea\n",
    "from cartopy.feature import LAND\n",
    "from scipy.ndimage import gaussian_filter\n",
    "from scipy.interpolate import RectBivariateSpline\n",
    "\n",
    "%matplotlib inline"
   ]
  },
  {
   "cell_type": "code",
   "execution_count": null,
   "metadata": {},
   "outputs": [],
   "source": [
    "ifile = '../mesh_arctic_ease_25km_max7.npz'\n",
    "srs_dst = LambertAzimuthalEqualArea(central_longitude=0, central_latitude=90)"
   ]
  },
  {
   "cell_type": "code",
   "execution_count": null,
   "metadata": {},
   "outputs": [],
   "source": [
    "with np.load(ifile) as ds:\n",
    "    x = ds['x'] * 1000\n",
    "    y = ds['y'] * 1000\n",
    "    t = ds['t']\n",
    "    xc = ds['xc'] * 1000\n",
    "    yc = ds['yc'] * 1000\n",
    "    mask = ds['mask']"
   ]
  },
  {
   "cell_type": "code",
   "execution_count": null,
   "metadata": {},
   "outputs": [],
   "source": [
    "m = gaussian_filter(mask.astype(float), 1, truncate=1)\n",
    "max_mask_fix_node=0.15\n",
    "max_mask_zero_speed=0.6\n",
    "mask = RectBivariateSpline(xc, yc, m[::-1], kx=1, ky=1)(y, x, grid=False)\n",
    "fixed_nodes_idx = np.nonzero(mask < max_mask_fix_node)[0]\n",
    "zero_speed = np.nonzero(mask < max_mask_zero_speed)[0]"
   ]
  },
  {
   "cell_type": "code",
   "execution_count": null,
   "metadata": {},
   "outputs": [],
   "source": [
    "fig = plt.figure(figsize=(12, 6))\n",
    "ax = fig.add_subplot(1, 3, 1, projection=srs_dst)\n",
    "tcf = ax.triplot(x, y, t, 'b-', lw=0.1, zorder=1)\n",
    "f = ax.add_feature(LAND, facecolor='lightgray', edgecolor='black', zorder=0, linewidth=0.2)\n",
    "ax.set_extent([-2200000, 2300000, -2500000, 2800000], crs=srs_dst)\n",
    "ax.set_axis_on()\n",
    "ax.set_xticks(ax.get_xticks())\n",
    "ax.set_yticks(ax.get_yticks())\n",
    "\n",
    "ax = fig.add_subplot(1, 3, 2, projection=srs_dst)\n",
    "tcf = ax.triplot(x, y, t, 'b-', lw=0.1, zorder=1)\n",
    "plt.plot(x[zero_speed], y[zero_speed], 'b.', markersize=2)\n",
    "plt.plot(x[fixed_nodes_idx], y[fixed_nodes_idx], 'r.', markersize=2)\n",
    "f = ax.add_feature(LAND, facecolor='lightgray', edgecolor='black', zorder=1, alpha=0.8, linewidth=0.2)\n",
    "ax.set_extent([-1000000, 500000, -2000000, -200000], crs=srs_dst)\n",
    "ax.set_axis_on()\n",
    "ax.set_xticks(ax.get_xticks())\n",
    "ax.set_yticks(ax.get_yticks())\n",
    "\n",
    "ax = fig.add_subplot(1, 3, 3, projection=srs_dst)\n",
    "tcf = ax.triplot(x, y, t, 'b-', lw=0.1)\n",
    "plt.plot(x[zero_speed], y[zero_speed], 'b.', markersize=2)\n",
    "plt.plot(x[fixed_nodes_idx], y[fixed_nodes_idx], 'r.', markersize=2)\n",
    "f = ax.add_feature(LAND, facecolor='lightgray', edgecolor='black', zorder=1, alpha=0.8, linewidth=0.2)\n",
    "ax.set_extent([-80000, 800000, -1700000, -700000], crs=srs_dst)\n",
    "ax.set_axis_on()\n",
    "ax.set_xticks(ax.get_xticks())\n",
    "ax.set_yticks(ax.get_yticks())\n",
    "\n",
    "plt.tight_layout()\n",
    "plt.savefig('figure04_mesh.png', dpi=100, bbox_inches='tight', pad_inches=0.1)"
   ]
  },
  {
   "cell_type": "code",
   "execution_count": null,
   "metadata": {},
   "outputs": [],
   "source": []
  },
  {
   "cell_type": "code",
   "execution_count": null,
   "metadata": {},
   "outputs": [],
   "source": []
  },
  {
   "cell_type": "code",
   "execution_count": null,
   "metadata": {},
   "outputs": [],
   "source": []
  }
 ],
 "metadata": {
  "kernelspec": {
   "display_name": "ice",
   "language": "python",
   "name": "python3"
  },
  "language_info": {
   "codemirror_mode": {
    "name": "ipython",
    "version": 3
   },
   "file_extension": ".py",
   "mimetype": "text/x-python",
   "name": "python",
   "nbconvert_exporter": "python",
   "pygments_lexer": "ipython3",
   "version": "3.13.3"
  }
 },
 "nbformat": 4,
 "nbformat_minor": 2
}
